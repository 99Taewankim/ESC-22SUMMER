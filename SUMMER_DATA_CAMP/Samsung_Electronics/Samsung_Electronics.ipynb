{
  "nbformat": 4,
  "nbformat_minor": 0,
  "metadata": {
    "colab": {
      "name": "Samsung Electronics.ipynb",
      "provenance": [],
      "collapsed_sections": []
    },
    "kernelspec": {
      "name": "python3",
      "display_name": "Python 3"
    },
    "language_info": {
      "name": "python"
    }
  },
  "cells": [
    {
      "cell_type": "markdown",
      "source": [
        "# 🐈 삼성전자 주가 예측하기\n"
      ],
      "metadata": {
        "id": "Z_XelTIP2ZbO"
      }
    },
    {
      "cell_type": "markdown",
      "source": [
        "이번에는 LSTM을 이용해서 삼성전자 주가를 예측해봅시다!"
      ],
      "metadata": {
        "id": "NMRbfAG02ZOu"
      }
    },
    {
      "cell_type": "markdown",
      "source": [
        "## 위 코드는 유튜버 테디노트 님의 영상 및 블로그를 참고하여 작성했습니다.\n",
        "\n",
        "https://www.youtube.com/c/teddynote/featured\n",
        "\n",
        "https://teddylee777.github.io/tensorflow/lstm-stock-forecast\n"
      ],
      "metadata": {
        "id": "RbY9MecdsrQQ"
      }
    },
    {
      "cell_type": "code",
      "execution_count": null,
      "metadata": {
        "id": "-uMJygmDtUC4"
      },
      "outputs": [],
      "source": [
        "#필요한 라이브러리\n",
        "\n",
        "import pandas as pd\n",
        "import numpy as np\n",
        "import matplotlib.pyplot as plt\n",
        "import seaborn as sns\n",
        "import warnings\n",
        "import os\n",
        "\n",
        "%matplotlib inline\n",
        "warnings.filterwarnings('ignore')\n",
        "\n",
        "plt.rcParams['font.family'] = 'NanumGothic'"
      ]
    },
    {
      "cell_type": "markdown",
      "source": [
        "https://finance.yahoo.com/quote/005930.KS?p=005930.KS"
      ],
      "metadata": {
        "id": "nx-yV-te5z4-"
      }
    },
    {
      "cell_type": "markdown",
      "source": [
        "Historical Data에 들어가서 기간과 일별, 주간별, 월별로 csv 파일을 다운받을 수 있습니다!"
      ],
      "metadata": {
        "id": "95Sit1lC6O2y"
      }
    },
    {
      "cell_type": "code",
      "source": [
        "# 데이터 불러오기\n",
        "df = pd.read_csv('./005930.KS.csv')"
      ],
      "metadata": {
        "id": "8st9hK6A5SnH"
      },
      "execution_count": null,
      "outputs": []
    },
    {
      "cell_type": "code",
      "source": [
        "df.head(5)"
      ],
      "metadata": {
        "colab": {
          "base_uri": "https://localhost:8080/",
          "height": 206
        },
        "id": "iSnqqdB05qc7",
        "outputId": "62280fe8-81b2-48f2-a239-6fe18d13ab7b"
      },
      "execution_count": null,
      "outputs": [
        {
          "output_type": "execute_result",
          "data": {
            "text/plain": [
              "         Date    Open    High     Low   Close    Adj Close    Volume\n",
              "0  2000-01-04  6000.0  6110.0  5660.0  6110.0  4623.466309  74195000\n",
              "1  2000-01-05  5800.0  6060.0  5520.0  5580.0  4222.414063  74680000\n",
              "2  2000-01-06  5750.0  5780.0  5580.0  5620.0  4252.681152  54390000\n",
              "3  2000-01-07  5560.0  5670.0  5360.0  5540.0  4192.144043  40305000\n",
              "4  2000-01-10  5600.0  5770.0  5580.0  5770.0  4366.188477  46880000"
            ],
            "text/html": [
              "\n",
              "  <div id=\"df-2903b120-10b6-44b6-a8f6-d8bd98117828\">\n",
              "    <div class=\"colab-df-container\">\n",
              "      <div>\n",
              "<style scoped>\n",
              "    .dataframe tbody tr th:only-of-type {\n",
              "        vertical-align: middle;\n",
              "    }\n",
              "\n",
              "    .dataframe tbody tr th {\n",
              "        vertical-align: top;\n",
              "    }\n",
              "\n",
              "    .dataframe thead th {\n",
              "        text-align: right;\n",
              "    }\n",
              "</style>\n",
              "<table border=\"1\" class=\"dataframe\">\n",
              "  <thead>\n",
              "    <tr style=\"text-align: right;\">\n",
              "      <th></th>\n",
              "      <th>Date</th>\n",
              "      <th>Open</th>\n",
              "      <th>High</th>\n",
              "      <th>Low</th>\n",
              "      <th>Close</th>\n",
              "      <th>Adj Close</th>\n",
              "      <th>Volume</th>\n",
              "    </tr>\n",
              "  </thead>\n",
              "  <tbody>\n",
              "    <tr>\n",
              "      <th>0</th>\n",
              "      <td>2000-01-04</td>\n",
              "      <td>6000.0</td>\n",
              "      <td>6110.0</td>\n",
              "      <td>5660.0</td>\n",
              "      <td>6110.0</td>\n",
              "      <td>4623.466309</td>\n",
              "      <td>74195000</td>\n",
              "    </tr>\n",
              "    <tr>\n",
              "      <th>1</th>\n",
              "      <td>2000-01-05</td>\n",
              "      <td>5800.0</td>\n",
              "      <td>6060.0</td>\n",
              "      <td>5520.0</td>\n",
              "      <td>5580.0</td>\n",
              "      <td>4222.414063</td>\n",
              "      <td>74680000</td>\n",
              "    </tr>\n",
              "    <tr>\n",
              "      <th>2</th>\n",
              "      <td>2000-01-06</td>\n",
              "      <td>5750.0</td>\n",
              "      <td>5780.0</td>\n",
              "      <td>5580.0</td>\n",
              "      <td>5620.0</td>\n",
              "      <td>4252.681152</td>\n",
              "      <td>54390000</td>\n",
              "    </tr>\n",
              "    <tr>\n",
              "      <th>3</th>\n",
              "      <td>2000-01-07</td>\n",
              "      <td>5560.0</td>\n",
              "      <td>5670.0</td>\n",
              "      <td>5360.0</td>\n",
              "      <td>5540.0</td>\n",
              "      <td>4192.144043</td>\n",
              "      <td>40305000</td>\n",
              "    </tr>\n",
              "    <tr>\n",
              "      <th>4</th>\n",
              "      <td>2000-01-10</td>\n",
              "      <td>5600.0</td>\n",
              "      <td>5770.0</td>\n",
              "      <td>5580.0</td>\n",
              "      <td>5770.0</td>\n",
              "      <td>4366.188477</td>\n",
              "      <td>46880000</td>\n",
              "    </tr>\n",
              "  </tbody>\n",
              "</table>\n",
              "</div>\n",
              "      <button class=\"colab-df-convert\" onclick=\"convertToInteractive('df-2903b120-10b6-44b6-a8f6-d8bd98117828')\"\n",
              "              title=\"Convert this dataframe to an interactive table.\"\n",
              "              style=\"display:none;\">\n",
              "        \n",
              "  <svg xmlns=\"http://www.w3.org/2000/svg\" height=\"24px\"viewBox=\"0 0 24 24\"\n",
              "       width=\"24px\">\n",
              "    <path d=\"M0 0h24v24H0V0z\" fill=\"none\"/>\n",
              "    <path d=\"M18.56 5.44l.94 2.06.94-2.06 2.06-.94-2.06-.94-.94-2.06-.94 2.06-2.06.94zm-11 1L8.5 8.5l.94-2.06 2.06-.94-2.06-.94L8.5 2.5l-.94 2.06-2.06.94zm10 10l.94 2.06.94-2.06 2.06-.94-2.06-.94-.94-2.06-.94 2.06-2.06.94z\"/><path d=\"M17.41 7.96l-1.37-1.37c-.4-.4-.92-.59-1.43-.59-.52 0-1.04.2-1.43.59L10.3 9.45l-7.72 7.72c-.78.78-.78 2.05 0 2.83L4 21.41c.39.39.9.59 1.41.59.51 0 1.02-.2 1.41-.59l7.78-7.78 2.81-2.81c.8-.78.8-2.07 0-2.86zM5.41 20L4 18.59l7.72-7.72 1.47 1.35L5.41 20z\"/>\n",
              "  </svg>\n",
              "      </button>\n",
              "      \n",
              "  <style>\n",
              "    .colab-df-container {\n",
              "      display:flex;\n",
              "      flex-wrap:wrap;\n",
              "      gap: 12px;\n",
              "    }\n",
              "\n",
              "    .colab-df-convert {\n",
              "      background-color: #E8F0FE;\n",
              "      border: none;\n",
              "      border-radius: 50%;\n",
              "      cursor: pointer;\n",
              "      display: none;\n",
              "      fill: #1967D2;\n",
              "      height: 32px;\n",
              "      padding: 0 0 0 0;\n",
              "      width: 32px;\n",
              "    }\n",
              "\n",
              "    .colab-df-convert:hover {\n",
              "      background-color: #E2EBFA;\n",
              "      box-shadow: 0px 1px 2px rgba(60, 64, 67, 0.3), 0px 1px 3px 1px rgba(60, 64, 67, 0.15);\n",
              "      fill: #174EA6;\n",
              "    }\n",
              "\n",
              "    [theme=dark] .colab-df-convert {\n",
              "      background-color: #3B4455;\n",
              "      fill: #D2E3FC;\n",
              "    }\n",
              "\n",
              "    [theme=dark] .colab-df-convert:hover {\n",
              "      background-color: #434B5C;\n",
              "      box-shadow: 0px 1px 3px 1px rgba(0, 0, 0, 0.15);\n",
              "      filter: drop-shadow(0px 1px 2px rgba(0, 0, 0, 0.3));\n",
              "      fill: #FFFFFF;\n",
              "    }\n",
              "  </style>\n",
              "\n",
              "      <script>\n",
              "        const buttonEl =\n",
              "          document.querySelector('#df-2903b120-10b6-44b6-a8f6-d8bd98117828 button.colab-df-convert');\n",
              "        buttonEl.style.display =\n",
              "          google.colab.kernel.accessAllowed ? 'block' : 'none';\n",
              "\n",
              "        async function convertToInteractive(key) {\n",
              "          const element = document.querySelector('#df-2903b120-10b6-44b6-a8f6-d8bd98117828');\n",
              "          const dataTable =\n",
              "            await google.colab.kernel.invokeFunction('convertToInteractive',\n",
              "                                                     [key], {});\n",
              "          if (!dataTable) return;\n",
              "\n",
              "          const docLinkHtml = 'Like what you see? Visit the ' +\n",
              "            '<a target=\"_blank\" href=https://colab.research.google.com/notebooks/data_table.ipynb>data table notebook</a>'\n",
              "            + ' to learn more about interactive tables.';\n",
              "          element.innerHTML = '';\n",
              "          dataTable['output_type'] = 'display_data';\n",
              "          await google.colab.output.renderOutput(dataTable, element);\n",
              "          const docLink = document.createElement('div');\n",
              "          docLink.innerHTML = docLinkHtml;\n",
              "          element.appendChild(docLink);\n",
              "        }\n",
              "      </script>\n",
              "    </div>\n",
              "  </div>\n",
              "  "
            ]
          },
          "metadata": {},
          "execution_count": 3
        }
      ]
    },
    {
      "cell_type": "code",
      "source": [
        "df.tail(5)"
      ],
      "metadata": {
        "colab": {
          "base_uri": "https://localhost:8080/",
          "height": 206
        },
        "id": "nqvTalxo5tMZ",
        "outputId": "92e3814f-7282-4de9-a952-dc04925ed550"
      },
      "execution_count": null,
      "outputs": [
        {
          "output_type": "execute_result",
          "data": {
            "text/plain": [
              "            Date     Open     High      Low    Close  Adj Close    Volume\n",
              "5664  2022-07-26  60800.0  61900.0  60800.0  61700.0    61700.0   6597211\n",
              "5665  2022-07-27  61300.0  61900.0  61200.0  61800.0    61800.0   7320997\n",
              "5666  2022-07-28  62300.0  62600.0  61600.0  61900.0    61900.0  10745302\n",
              "5667  2022-07-29  62400.0  62600.0  61300.0  61400.0    61400.0  15093120\n",
              "5668  2022-08-01  61000.0  61700.0  60300.0  61300.0    61300.0  13097910"
            ],
            "text/html": [
              "\n",
              "  <div id=\"df-c7889a92-3720-472a-8e07-3620ca66651a\">\n",
              "    <div class=\"colab-df-container\">\n",
              "      <div>\n",
              "<style scoped>\n",
              "    .dataframe tbody tr th:only-of-type {\n",
              "        vertical-align: middle;\n",
              "    }\n",
              "\n",
              "    .dataframe tbody tr th {\n",
              "        vertical-align: top;\n",
              "    }\n",
              "\n",
              "    .dataframe thead th {\n",
              "        text-align: right;\n",
              "    }\n",
              "</style>\n",
              "<table border=\"1\" class=\"dataframe\">\n",
              "  <thead>\n",
              "    <tr style=\"text-align: right;\">\n",
              "      <th></th>\n",
              "      <th>Date</th>\n",
              "      <th>Open</th>\n",
              "      <th>High</th>\n",
              "      <th>Low</th>\n",
              "      <th>Close</th>\n",
              "      <th>Adj Close</th>\n",
              "      <th>Volume</th>\n",
              "    </tr>\n",
              "  </thead>\n",
              "  <tbody>\n",
              "    <tr>\n",
              "      <th>5664</th>\n",
              "      <td>2022-07-26</td>\n",
              "      <td>60800.0</td>\n",
              "      <td>61900.0</td>\n",
              "      <td>60800.0</td>\n",
              "      <td>61700.0</td>\n",
              "      <td>61700.0</td>\n",
              "      <td>6597211</td>\n",
              "    </tr>\n",
              "    <tr>\n",
              "      <th>5665</th>\n",
              "      <td>2022-07-27</td>\n",
              "      <td>61300.0</td>\n",
              "      <td>61900.0</td>\n",
              "      <td>61200.0</td>\n",
              "      <td>61800.0</td>\n",
              "      <td>61800.0</td>\n",
              "      <td>7320997</td>\n",
              "    </tr>\n",
              "    <tr>\n",
              "      <th>5666</th>\n",
              "      <td>2022-07-28</td>\n",
              "      <td>62300.0</td>\n",
              "      <td>62600.0</td>\n",
              "      <td>61600.0</td>\n",
              "      <td>61900.0</td>\n",
              "      <td>61900.0</td>\n",
              "      <td>10745302</td>\n",
              "    </tr>\n",
              "    <tr>\n",
              "      <th>5667</th>\n",
              "      <td>2022-07-29</td>\n",
              "      <td>62400.0</td>\n",
              "      <td>62600.0</td>\n",
              "      <td>61300.0</td>\n",
              "      <td>61400.0</td>\n",
              "      <td>61400.0</td>\n",
              "      <td>15093120</td>\n",
              "    </tr>\n",
              "    <tr>\n",
              "      <th>5668</th>\n",
              "      <td>2022-08-01</td>\n",
              "      <td>61000.0</td>\n",
              "      <td>61700.0</td>\n",
              "      <td>60300.0</td>\n",
              "      <td>61300.0</td>\n",
              "      <td>61300.0</td>\n",
              "      <td>13097910</td>\n",
              "    </tr>\n",
              "  </tbody>\n",
              "</table>\n",
              "</div>\n",
              "      <button class=\"colab-df-convert\" onclick=\"convertToInteractive('df-c7889a92-3720-472a-8e07-3620ca66651a')\"\n",
              "              title=\"Convert this dataframe to an interactive table.\"\n",
              "              style=\"display:none;\">\n",
              "        \n",
              "  <svg xmlns=\"http://www.w3.org/2000/svg\" height=\"24px\"viewBox=\"0 0 24 24\"\n",
              "       width=\"24px\">\n",
              "    <path d=\"M0 0h24v24H0V0z\" fill=\"none\"/>\n",
              "    <path d=\"M18.56 5.44l.94 2.06.94-2.06 2.06-.94-2.06-.94-.94-2.06-.94 2.06-2.06.94zm-11 1L8.5 8.5l.94-2.06 2.06-.94-2.06-.94L8.5 2.5l-.94 2.06-2.06.94zm10 10l.94 2.06.94-2.06 2.06-.94-2.06-.94-.94-2.06-.94 2.06-2.06.94z\"/><path d=\"M17.41 7.96l-1.37-1.37c-.4-.4-.92-.59-1.43-.59-.52 0-1.04.2-1.43.59L10.3 9.45l-7.72 7.72c-.78.78-.78 2.05 0 2.83L4 21.41c.39.39.9.59 1.41.59.51 0 1.02-.2 1.41-.59l7.78-7.78 2.81-2.81c.8-.78.8-2.07 0-2.86zM5.41 20L4 18.59l7.72-7.72 1.47 1.35L5.41 20z\"/>\n",
              "  </svg>\n",
              "      </button>\n",
              "      \n",
              "  <style>\n",
              "    .colab-df-container {\n",
              "      display:flex;\n",
              "      flex-wrap:wrap;\n",
              "      gap: 12px;\n",
              "    }\n",
              "\n",
              "    .colab-df-convert {\n",
              "      background-color: #E8F0FE;\n",
              "      border: none;\n",
              "      border-radius: 50%;\n",
              "      cursor: pointer;\n",
              "      display: none;\n",
              "      fill: #1967D2;\n",
              "      height: 32px;\n",
              "      padding: 0 0 0 0;\n",
              "      width: 32px;\n",
              "    }\n",
              "\n",
              "    .colab-df-convert:hover {\n",
              "      background-color: #E2EBFA;\n",
              "      box-shadow: 0px 1px 2px rgba(60, 64, 67, 0.3), 0px 1px 3px 1px rgba(60, 64, 67, 0.15);\n",
              "      fill: #174EA6;\n",
              "    }\n",
              "\n",
              "    [theme=dark] .colab-df-convert {\n",
              "      background-color: #3B4455;\n",
              "      fill: #D2E3FC;\n",
              "    }\n",
              "\n",
              "    [theme=dark] .colab-df-convert:hover {\n",
              "      background-color: #434B5C;\n",
              "      box-shadow: 0px 1px 3px 1px rgba(0, 0, 0, 0.15);\n",
              "      filter: drop-shadow(0px 1px 2px rgba(0, 0, 0, 0.3));\n",
              "      fill: #FFFFFF;\n",
              "    }\n",
              "  </style>\n",
              "\n",
              "      <script>\n",
              "        const buttonEl =\n",
              "          document.querySelector('#df-c7889a92-3720-472a-8e07-3620ca66651a button.colab-df-convert');\n",
              "        buttonEl.style.display =\n",
              "          google.colab.kernel.accessAllowed ? 'block' : 'none';\n",
              "\n",
              "        async function convertToInteractive(key) {\n",
              "          const element = document.querySelector('#df-c7889a92-3720-472a-8e07-3620ca66651a');\n",
              "          const dataTable =\n",
              "            await google.colab.kernel.invokeFunction('convertToInteractive',\n",
              "                                                     [key], {});\n",
              "          if (!dataTable) return;\n",
              "\n",
              "          const docLinkHtml = 'Like what you see? Visit the ' +\n",
              "            '<a target=\"_blank\" href=https://colab.research.google.com/notebooks/data_table.ipynb>data table notebook</a>'\n",
              "            + ' to learn more about interactive tables.';\n",
              "          element.innerHTML = '';\n",
              "          dataTable['output_type'] = 'display_data';\n",
              "          await google.colab.output.renderOutput(dataTable, element);\n",
              "          const docLink = document.createElement('div');\n",
              "          docLink.innerHTML = docLinkHtml;\n",
              "          element.appendChild(docLink);\n",
              "        }\n",
              "      </script>\n",
              "    </div>\n",
              "  </div>\n",
              "  "
            ]
          },
          "metadata": {},
          "execution_count": 4
        }
      ]
    },
    {
      "cell_type": "code",
      "source": [
        "# 날짜 데이터를 문자형에서 날짜형으로 변환\n",
        "\n",
        "df['Date'] = pd.to_datetime(df['Date'])\n",
        "df.dtypes"
      ],
      "metadata": {
        "colab": {
          "base_uri": "https://localhost:8080/"
        },
        "id": "Eehf7va4McAI",
        "outputId": "1a5b89a2-f5be-4c86-95bd-bd3a3cdf1dd1"
      },
      "execution_count": null,
      "outputs": [
        {
          "output_type": "execute_result",
          "data": {
            "text/plain": [
              "Date         datetime64[ns]\n",
              "Open                float64\n",
              "High                float64\n",
              "Low                 float64\n",
              "Close               float64\n",
              "Adj Close           float64\n",
              "Volume                int64\n",
              "dtype: object"
            ]
          },
          "metadata": {},
          "execution_count": 5
        }
      ]
    },
    {
      "cell_type": "code",
      "source": [
        "# 연, 월, 일 추출하기\n",
        "\n",
        "df['Year'] = df['Date'].dt.year\n",
        "df['Month'] = df['Date'].dt.month\n",
        "df['Day'] = df['Date'].dt.day\n",
        "\n",
        "df.head(5)"
      ],
      "metadata": {
        "colab": {
          "base_uri": "https://localhost:8080/",
          "height": 250
        },
        "id": "11CODeKENrU3",
        "outputId": "41621ebf-fd2f-4f0c-b9e5-48e3fd86e9b9"
      },
      "execution_count": null,
      "outputs": [
        {
          "output_type": "execute_result",
          "data": {
            "text/plain": [
              "        Date    Open    High     Low   Close    Adj Close    Volume  Year  \\\n",
              "0 2000-01-04  6000.0  6110.0  5660.0  6110.0  4623.466309  74195000  2000   \n",
              "1 2000-01-05  5800.0  6060.0  5520.0  5580.0  4222.414063  74680000  2000   \n",
              "2 2000-01-06  5750.0  5780.0  5580.0  5620.0  4252.681152  54390000  2000   \n",
              "3 2000-01-07  5560.0  5670.0  5360.0  5540.0  4192.144043  40305000  2000   \n",
              "4 2000-01-10  5600.0  5770.0  5580.0  5770.0  4366.188477  46880000  2000   \n",
              "\n",
              "   Month  Day  \n",
              "0      1    4  \n",
              "1      1    5  \n",
              "2      1    6  \n",
              "3      1    7  \n",
              "4      1   10  "
            ],
            "text/html": [
              "\n",
              "  <div id=\"df-521d0539-444f-4187-ae31-5197eb741e78\">\n",
              "    <div class=\"colab-df-container\">\n",
              "      <div>\n",
              "<style scoped>\n",
              "    .dataframe tbody tr th:only-of-type {\n",
              "        vertical-align: middle;\n",
              "    }\n",
              "\n",
              "    .dataframe tbody tr th {\n",
              "        vertical-align: top;\n",
              "    }\n",
              "\n",
              "    .dataframe thead th {\n",
              "        text-align: right;\n",
              "    }\n",
              "</style>\n",
              "<table border=\"1\" class=\"dataframe\">\n",
              "  <thead>\n",
              "    <tr style=\"text-align: right;\">\n",
              "      <th></th>\n",
              "      <th>Date</th>\n",
              "      <th>Open</th>\n",
              "      <th>High</th>\n",
              "      <th>Low</th>\n",
              "      <th>Close</th>\n",
              "      <th>Adj Close</th>\n",
              "      <th>Volume</th>\n",
              "      <th>Year</th>\n",
              "      <th>Month</th>\n",
              "      <th>Day</th>\n",
              "    </tr>\n",
              "  </thead>\n",
              "  <tbody>\n",
              "    <tr>\n",
              "      <th>0</th>\n",
              "      <td>2000-01-04</td>\n",
              "      <td>6000.0</td>\n",
              "      <td>6110.0</td>\n",
              "      <td>5660.0</td>\n",
              "      <td>6110.0</td>\n",
              "      <td>4623.466309</td>\n",
              "      <td>74195000</td>\n",
              "      <td>2000</td>\n",
              "      <td>1</td>\n",
              "      <td>4</td>\n",
              "    </tr>\n",
              "    <tr>\n",
              "      <th>1</th>\n",
              "      <td>2000-01-05</td>\n",
              "      <td>5800.0</td>\n",
              "      <td>6060.0</td>\n",
              "      <td>5520.0</td>\n",
              "      <td>5580.0</td>\n",
              "      <td>4222.414063</td>\n",
              "      <td>74680000</td>\n",
              "      <td>2000</td>\n",
              "      <td>1</td>\n",
              "      <td>5</td>\n",
              "    </tr>\n",
              "    <tr>\n",
              "      <th>2</th>\n",
              "      <td>2000-01-06</td>\n",
              "      <td>5750.0</td>\n",
              "      <td>5780.0</td>\n",
              "      <td>5580.0</td>\n",
              "      <td>5620.0</td>\n",
              "      <td>4252.681152</td>\n",
              "      <td>54390000</td>\n",
              "      <td>2000</td>\n",
              "      <td>1</td>\n",
              "      <td>6</td>\n",
              "    </tr>\n",
              "    <tr>\n",
              "      <th>3</th>\n",
              "      <td>2000-01-07</td>\n",
              "      <td>5560.0</td>\n",
              "      <td>5670.0</td>\n",
              "      <td>5360.0</td>\n",
              "      <td>5540.0</td>\n",
              "      <td>4192.144043</td>\n",
              "      <td>40305000</td>\n",
              "      <td>2000</td>\n",
              "      <td>1</td>\n",
              "      <td>7</td>\n",
              "    </tr>\n",
              "    <tr>\n",
              "      <th>4</th>\n",
              "      <td>2000-01-10</td>\n",
              "      <td>5600.0</td>\n",
              "      <td>5770.0</td>\n",
              "      <td>5580.0</td>\n",
              "      <td>5770.0</td>\n",
              "      <td>4366.188477</td>\n",
              "      <td>46880000</td>\n",
              "      <td>2000</td>\n",
              "      <td>1</td>\n",
              "      <td>10</td>\n",
              "    </tr>\n",
              "  </tbody>\n",
              "</table>\n",
              "</div>\n",
              "      <button class=\"colab-df-convert\" onclick=\"convertToInteractive('df-521d0539-444f-4187-ae31-5197eb741e78')\"\n",
              "              title=\"Convert this dataframe to an interactive table.\"\n",
              "              style=\"display:none;\">\n",
              "        \n",
              "  <svg xmlns=\"http://www.w3.org/2000/svg\" height=\"24px\"viewBox=\"0 0 24 24\"\n",
              "       width=\"24px\">\n",
              "    <path d=\"M0 0h24v24H0V0z\" fill=\"none\"/>\n",
              "    <path d=\"M18.56 5.44l.94 2.06.94-2.06 2.06-.94-2.06-.94-.94-2.06-.94 2.06-2.06.94zm-11 1L8.5 8.5l.94-2.06 2.06-.94-2.06-.94L8.5 2.5l-.94 2.06-2.06.94zm10 10l.94 2.06.94-2.06 2.06-.94-2.06-.94-.94-2.06-.94 2.06-2.06.94z\"/><path d=\"M17.41 7.96l-1.37-1.37c-.4-.4-.92-.59-1.43-.59-.52 0-1.04.2-1.43.59L10.3 9.45l-7.72 7.72c-.78.78-.78 2.05 0 2.83L4 21.41c.39.39.9.59 1.41.59.51 0 1.02-.2 1.41-.59l7.78-7.78 2.81-2.81c.8-.78.8-2.07 0-2.86zM5.41 20L4 18.59l7.72-7.72 1.47 1.35L5.41 20z\"/>\n",
              "  </svg>\n",
              "      </button>\n",
              "      \n",
              "  <style>\n",
              "    .colab-df-container {\n",
              "      display:flex;\n",
              "      flex-wrap:wrap;\n",
              "      gap: 12px;\n",
              "    }\n",
              "\n",
              "    .colab-df-convert {\n",
              "      background-color: #E8F0FE;\n",
              "      border: none;\n",
              "      border-radius: 50%;\n",
              "      cursor: pointer;\n",
              "      display: none;\n",
              "      fill: #1967D2;\n",
              "      height: 32px;\n",
              "      padding: 0 0 0 0;\n",
              "      width: 32px;\n",
              "    }\n",
              "\n",
              "    .colab-df-convert:hover {\n",
              "      background-color: #E2EBFA;\n",
              "      box-shadow: 0px 1px 2px rgba(60, 64, 67, 0.3), 0px 1px 3px 1px rgba(60, 64, 67, 0.15);\n",
              "      fill: #174EA6;\n",
              "    }\n",
              "\n",
              "    [theme=dark] .colab-df-convert {\n",
              "      background-color: #3B4455;\n",
              "      fill: #D2E3FC;\n",
              "    }\n",
              "\n",
              "    [theme=dark] .colab-df-convert:hover {\n",
              "      background-color: #434B5C;\n",
              "      box-shadow: 0px 1px 3px 1px rgba(0, 0, 0, 0.15);\n",
              "      filter: drop-shadow(0px 1px 2px rgba(0, 0, 0, 0.3));\n",
              "      fill: #FFFFFF;\n",
              "    }\n",
              "  </style>\n",
              "\n",
              "      <script>\n",
              "        const buttonEl =\n",
              "          document.querySelector('#df-521d0539-444f-4187-ae31-5197eb741e78 button.colab-df-convert');\n",
              "        buttonEl.style.display =\n",
              "          google.colab.kernel.accessAllowed ? 'block' : 'none';\n",
              "\n",
              "        async function convertToInteractive(key) {\n",
              "          const element = document.querySelector('#df-521d0539-444f-4187-ae31-5197eb741e78');\n",
              "          const dataTable =\n",
              "            await google.colab.kernel.invokeFunction('convertToInteractive',\n",
              "                                                     [key], {});\n",
              "          if (!dataTable) return;\n",
              "\n",
              "          const docLinkHtml = 'Like what you see? Visit the ' +\n",
              "            '<a target=\"_blank\" href=https://colab.research.google.com/notebooks/data_table.ipynb>data table notebook</a>'\n",
              "            + ' to learn more about interactive tables.';\n",
              "          element.innerHTML = '';\n",
              "          dataTable['output_type'] = 'display_data';\n",
              "          await google.colab.output.renderOutput(dataTable, element);\n",
              "          const docLink = document.createElement('div');\n",
              "          docLink.innerHTML = docLinkHtml;\n",
              "          element.appendChild(docLink);\n",
              "        }\n",
              "      </script>\n",
              "    </div>\n",
              "  </div>\n",
              "  "
            ]
          },
          "metadata": {},
          "execution_count": 6
        }
      ]
    },
    {
      "cell_type": "code",
      "source": [
        "df.dtypes # 연, 월, 일 모두 정수형 자료네요!"
      ],
      "metadata": {
        "colab": {
          "base_uri": "https://localhost:8080/"
        },
        "id": "iIQ-NfV0N_lM",
        "outputId": "6fc5aa46-4be3-47e4-9b05-c0e01cb37bbb"
      },
      "execution_count": null,
      "outputs": [
        {
          "output_type": "execute_result",
          "data": {
            "text/plain": [
              "Date         datetime64[ns]\n",
              "Open                float64\n",
              "High                float64\n",
              "Low                 float64\n",
              "Close               float64\n",
              "Adj Close           float64\n",
              "Volume                int64\n",
              "Year                  int64\n",
              "Month                 int64\n",
              "Day                   int64\n",
              "dtype: object"
            ]
          },
          "metadata": {},
          "execution_count": 7
        }
      ]
    },
    {
      "cell_type": "code",
      "source": [
        "plt.figure(figsize=(16, 9))\n",
        "sns.lineplot(y = df['Adj Close'], x = df['Date'])\n",
        "plt.xlabel('time')\n",
        "plt.ylabel('price')"
      ],
      "metadata": {
        "colab": {
          "base_uri": "https://localhost:8080/",
          "height": 413
        },
        "id": "IQP_udeCOTbM",
        "outputId": "5e5a3fa1-70d5-4c34-8762-edbec6a2a0c4"
      },
      "execution_count": null,
      "outputs": [
        {
          "output_type": "execute_result",
          "data": {
            "text/plain": [
              "Text(0, 0.5, 'price')"
            ]
          },
          "metadata": {},
          "execution_count": 8
        },
        {
          "output_type": "stream",
          "name": "stderr",
          "text": [
            "findfont: Font family ['NanumGothic'] not found. Falling back to DejaVu Sans.\n"
          ]
        },
        {
          "output_type": "display_data",
          "data": {
            "text/plain": [
              "<Figure size 1152x648 with 1 Axes>"
            ],
            "image/png": "[encoded data removed]"
          },
          "metadata": {
            "needs_background": "light"
          }
        }
      ]
    },
    {
      "cell_type": "markdown",
      "source": [
        "삼성전자 주식 종가를 도표로 나타내보니, 아주 미쳐 날뛰고 있네요... 허허... 주식을 시작하고 싶으시다면 이 데이터를 제공했던 야후 파이낸스에 들어가서 살펴보시는 건 어떨까요. ㅎㅎ"
      ],
      "metadata": {
        "id": "KY2gN6dHEVMt"
      }
    },
    {
      "cell_type": "code",
      "source": [
        "# 데이터 전처리\n",
        "\n",
        "# 정규화\n",
        "from sklearn.preprocessing import MinMaxScaler\n",
        "\n",
        "scaler = MinMaxScaler()\n",
        "\n",
        "# 스케일을 적용할 column을 정의\n",
        "scale_cols = ['Open', 'High', 'Low', 'Close', 'Adj Close', 'Volume']\n",
        "\n",
        "# 스케일 후 columns\n",
        "scaled = scaler.fit_transform(df[scale_cols])\n",
        "scaled"
      ],
      "metadata": {
        "colab": {
          "base_uri": "https://localhost:8080/"
        },
        "id": "UzQm74h0FQcq",
        "outputId": "889462c9-35f8-4f88-c8ed-bb21245f7178"
      },
      "execution_count": null,
      "outputs": [
        {
          "output_type": "execute_result",
          "data": {
            "text/plain": [
              "array([[0.03942571, 0.03562314, 0.03720717, 0.03829161, 0.02963617,\n",
              "        0.45181622],\n",
              "       [0.03714676, 0.03509145, 0.03559945, 0.0322873 , 0.02498909,\n",
              "        0.45476966],\n",
              "       [0.03657703, 0.03211399, 0.03628847, 0.03274046, 0.0253398 ,\n",
              "        0.33121213],\n",
              "       ...,\n",
              "       [0.68094804, 0.63632497, 0.67960496, 0.67032967, 0.69331149,\n",
              "        0.06543435],\n",
              "       [0.68208751, 0.63632497, 0.67615985, 0.66466523, 0.68751788,\n",
              "        0.09191073],\n",
              "       [0.66613491, 0.62675457, 0.66467616, 0.66353234, 0.68635916,\n",
              "        0.07976074]])"
            ]
          },
          "metadata": {},
          "execution_count": 9
        }
      ]
    },
    {
      "cell_type": "markdown",
      "source": [
        "스케일이 완료된 column으로 새로운 데이터 프레임을 생성합시다!"
      ],
      "metadata": {
        "id": "_9eUEuJWWTCc"
      }
    },
    {
      "cell_type": "code",
      "source": [
        "df = pd.DataFrame(scaled, columns = scale_cols)"
      ],
      "metadata": {
        "id": "YZLzf1P2WO0Z"
      },
      "execution_count": null,
      "outputs": []
    },
    {
      "cell_type": "code",
      "source": [
        "# train_test_split\n",
        "\n",
        "from sklearn.model_selection import train_test_split\n",
        "x_train, x_test, y_train, y_test = train_test_split(df.drop('Adj Close', 1),\n",
        "                                                    df['Adj Close'],\n",
        "                                                    test_size=0.2,\n",
        "                                                    random_state=0,\n",
        "                                                    shuffle=False)\n",
        "\n",
        "print([x_train.shape, y_train.shape])\n",
        "print([x_test.shape, y_test.shape])"
      ],
      "metadata": {
        "id": "hM7ORMNE6cfm",
        "colab": {
          "base_uri": "https://localhost:8080/"
        },
        "outputId": "0c1e1a95-891c-4c8c-92e5-942eb82c5f41"
      },
      "execution_count": null,
      "outputs": [
        {
          "output_type": "stream",
          "name": "stdout",
          "text": [
            "[(4535, 5), (4535,)]\n",
            "[(1134, 5), (1134,)]\n"
          ]
        }
      ]
    },
    {
      "cell_type": "code",
      "source": [
        "x_train"
      ],
      "metadata": {
        "colab": {
          "base_uri": "https://localhost:8080/",
          "height": 424
        },
        "id": "qeBXgsS0W2Iq",
        "outputId": "167407f1-ab8a-4243-ba7e-ec9b90a07023"
      },
      "execution_count": null,
      "outputs": [
        {
          "output_type": "execute_result",
          "data": {
            "text/plain": [
              "          Open      High       Low     Close    Volume\n",
              "0     0.039426  0.035623  0.037207  0.038292  0.451816\n",
              "1     0.037147  0.035091  0.035599  0.032287  0.454770\n",
              "2     0.036577  0.032114  0.036288  0.032740  0.331212\n",
              "3     0.034412  0.030944  0.033762  0.031834  0.245440\n",
              "4     0.034868  0.032008  0.036288  0.034440  0.285479\n",
              "...        ...       ...       ...       ...       ...\n",
              "4530  0.563582  0.524032  0.563620  0.555681  0.049483\n",
              "4531  0.561531  0.524670  0.565457  0.559307  0.053375\n",
              "4532  0.564722  0.524670  0.559026  0.550470  0.069017\n",
              "4533  0.555834  0.526584  0.558567  0.547525  0.123682\n",
              "4534  0.554923  0.518077  0.552366  0.542540  0.090909\n",
              "\n",
              "[4535 rows x 5 columns]"
            ],
            "text/html": [
              "\n",
              "  <div id=\"df-9dcc2d2e-8ba3-4874-8eb7-7c5e25fc297b\">\n",
              "    <div class=\"colab-df-container\">\n",
              "      <div>\n",
              "<style scoped>\n",
              "    .dataframe tbody tr th:only-of-type {\n",
              "        vertical-align: middle;\n",
              "    }\n",
              "\n",
              "    .dataframe tbody tr th {\n",
              "        vertical-align: top;\n",
              "    }\n",
              "\n",
              "    .dataframe thead th {\n",
              "        text-align: right;\n",
              "    }\n",
              "</style>\n",
              "<table border=\"1\" class=\"dataframe\">\n",
              "  <thead>\n",
              "    <tr style=\"text-align: right;\">\n",
              "      <th></th>\n",
              "      <th>Open</th>\n",
              "      <th>High</th>\n",
              "      <th>Low</th>\n",
              "      <th>Close</th>\n",
              "      <th>Volume</th>\n",
              "    </tr>\n",
              "  </thead>\n",
              "  <tbody>\n",
              "    <tr>\n",
              "      <th>0</th>\n",
              "      <td>0.039426</td>\n",
              "      <td>0.035623</td>\n",
              "      <td>0.037207</td>\n",
              "      <td>0.038292</td>\n",
              "      <td>0.451816</td>\n",
              "    </tr>\n",
              "    <tr>\n",
              "      <th>1</th>\n",
              "      <td>0.037147</td>\n",
              "      <td>0.035091</td>\n",
              "      <td>0.035599</td>\n",
              "      <td>0.032287</td>\n",
              "      <td>0.454770</td>\n",
              "    </tr>\n",
              "    <tr>\n",
              "      <th>2</th>\n",
              "      <td>0.036577</td>\n",
              "      <td>0.032114</td>\n",
              "      <td>0.036288</td>\n",
              "      <td>0.032740</td>\n",
              "      <td>0.331212</td>\n",
              "    </tr>\n",
              "    <tr>\n",
              "      <th>3</th>\n",
              "      <td>0.034412</td>\n",
              "      <td>0.030944</td>\n",
              "      <td>0.033762</td>\n",
              "      <td>0.031834</td>\n",
              "      <td>0.245440</td>\n",
              "    </tr>\n",
              "    <tr>\n",
              "      <th>4</th>\n",
              "      <td>0.034868</td>\n",
              "      <td>0.032008</td>\n",
              "      <td>0.036288</td>\n",
              "      <td>0.034440</td>\n",
              "      <td>0.285479</td>\n",
              "    </tr>\n",
              "    <tr>\n",
              "      <th>...</th>\n",
              "      <td>...</td>\n",
              "      <td>...</td>\n",
              "      <td>...</td>\n",
              "      <td>...</td>\n",
              "      <td>...</td>\n",
              "    </tr>\n",
              "    <tr>\n",
              "      <th>4530</th>\n",
              "      <td>0.563582</td>\n",
              "      <td>0.524032</td>\n",
              "      <td>0.563620</td>\n",
              "      <td>0.555681</td>\n",
              "      <td>0.049483</td>\n",
              "    </tr>\n",
              "    <tr>\n",
              "      <th>4531</th>\n",
              "      <td>0.561531</td>\n",
              "      <td>0.524670</td>\n",
              "      <td>0.565457</td>\n",
              "      <td>0.559307</td>\n",
              "      <td>0.053375</td>\n",
              "    </tr>\n",
              "    <tr>\n",
              "      <th>4532</th>\n",
              "      <td>0.564722</td>\n",
              "      <td>0.524670</td>\n",
              "      <td>0.559026</td>\n",
              "      <td>0.550470</td>\n",
              "      <td>0.069017</td>\n",
              "    </tr>\n",
              "    <tr>\n",
              "      <th>4533</th>\n",
              "      <td>0.555834</td>\n",
              "      <td>0.526584</td>\n",
              "      <td>0.558567</td>\n",
              "      <td>0.547525</td>\n",
              "      <td>0.123682</td>\n",
              "    </tr>\n",
              "    <tr>\n",
              "      <th>4534</th>\n",
              "      <td>0.554923</td>\n",
              "      <td>0.518077</td>\n",
              "      <td>0.552366</td>\n",
              "      <td>0.542540</td>\n",
              "      <td>0.090909</td>\n",
              "    </tr>\n",
              "  </tbody>\n",
              "</table>\n",
              "<p>4535 rows × 5 columns</p>\n",
              "</div>\n",
              "      <button class=\"colab-df-convert\" onclick=\"convertToInteractive('df-9dcc2d2e-8ba3-4874-8eb7-7c5e25fc297b')\"\n",
              "              title=\"Convert this dataframe to an interactive table.\"\n",
              "              style=\"display:none;\">\n",
              "        \n",
              "  <svg xmlns=\"http://www.w3.org/2000/svg\" height=\"24px\"viewBox=\"0 0 24 24\"\n",
              "       width=\"24px\">\n",
              "    <path d=\"M0 0h24v24H0V0z\" fill=\"none\"/>\n",
              "    <path d=\"M18.56 5.44l.94 2.06.94-2.06 2.06-.94-2.06-.94-.94-2.06-.94 2.06-2.06.94zm-11 1L8.5 8.5l.94-2.06 2.06-.94-2.06-.94L8.5 2.5l-.94 2.06-2.06.94zm10 10l.94 2.06.94-2.06 2.06-.94-2.06-.94-.94-2.06-.94 2.06-2.06.94z\"/><path d=\"M17.41 7.96l-1.37-1.37c-.4-.4-.92-.59-1.43-.59-.52 0-1.04.2-1.43.59L10.3 9.45l-7.72 7.72c-.78.78-.78 2.05 0 2.83L4 21.41c.39.39.9.59 1.41.59.51 0 1.02-.2 1.41-.59l7.78-7.78 2.81-2.81c.8-.78.8-2.07 0-2.86zM5.41 20L4 18.59l7.72-7.72 1.47 1.35L5.41 20z\"/>\n",
              "  </svg>\n",
              "      </button>\n",
              "      \n",
              "  <style>\n",
              "    .colab-df-container {\n",
              "      display:flex;\n",
              "      flex-wrap:wrap;\n",
              "      gap: 12px;\n",
              "    }\n",
              "\n",
              "    .colab-df-convert {\n",
              "      background-color: #E8F0FE;\n",
              "      border: none;\n",
              "      border-radius: 50%;\n",
              "      cursor: pointer;\n",
              "      display: none;\n",
              "      fill: #1967D2;\n",
              "      height: 32px;\n",
              "      padding: 0 0 0 0;\n",
              "      width: 32px;\n",
              "    }\n",
              "\n",
              "    .colab-df-convert:hover {\n",
              "      background-color: #E2EBFA;\n",
              "      box-shadow: 0px 1px 2px rgba(60, 64, 67, 0.3), 0px 1px 3px 1px rgba(60, 64, 67, 0.15);\n",
              "      fill: #174EA6;\n",
              "    }\n",
              "\n",
              "    [theme=dark] .colab-df-convert {\n",
              "      background-color: #3B4455;\n",
              "      fill: #D2E3FC;\n",
              "    }\n",
              "\n",
              "    [theme=dark] .colab-df-convert:hover {\n",
              "      background-color: #434B5C;\n",
              "      box-shadow: 0px 1px 3px 1px rgba(0, 0, 0, 0.15);\n",
              "      filter: drop-shadow(0px 1px 2px rgba(0, 0, 0, 0.3));\n",
              "      fill: #FFFFFF;\n",
              "    }\n",
              "  </style>\n",
              "\n",
              "      <script>\n",
              "        const buttonEl =\n",
              "          document.querySelector('#df-9dcc2d2e-8ba3-4874-8eb7-7c5e25fc297b button.colab-df-convert');\n",
              "        buttonEl.style.display =\n",
              "          google.colab.kernel.accessAllowed ? 'block' : 'none';\n",
              "\n",
              "        async function convertToInteractive(key) {\n",
              "          const element = document.querySelector('#df-9dcc2d2e-8ba3-4874-8eb7-7c5e25fc297b');\n",
              "          const dataTable =\n",
              "            await google.colab.kernel.invokeFunction('convertToInteractive',\n",
              "                                                     [key], {});\n",
              "          if (!dataTable) return;\n",
              "\n",
              "          const docLinkHtml = 'Like what you see? Visit the ' +\n",
              "            '<a target=\"_blank\" href=https://colab.research.google.com/notebooks/data_table.ipynb>data table notebook</a>'\n",
              "            + ' to learn more about interactive tables.';\n",
              "          element.innerHTML = '';\n",
              "          dataTable['output_type'] = 'display_data';\n",
              "          await google.colab.output.renderOutput(dataTable, element);\n",
              "          const docLink = document.createElement('div');\n",
              "          docLink.innerHTML = docLinkHtml;\n",
              "          element.appendChild(docLink);\n",
              "        }\n",
              "      </script>\n",
              "    </div>\n",
              "  </div>\n",
              "  "
            ]
          },
          "metadata": {},
          "execution_count": 12
        }
      ]
    },
    {
      "cell_type": "code",
      "source": [
        ""
      ],
      "metadata": {
        "id": "Kmrv83__Im5-"
      },
      "execution_count": null,
      "outputs": []
    },
    {
      "cell_type": "markdown",
      "source": [
        "### Tensorflow Dataset을 활용한 시퀀스 데이터셋 구성"
      ],
      "metadata": {
        "id": "U50guymTXZdb"
      }
    },
    {
      "cell_type": "code",
      "source": [
        "import tensorflow as tf"
      ],
      "metadata": {
        "id": "IYiQPUV3Im3J"
      },
      "execution_count": null,
      "outputs": []
    },
    {
      "cell_type": "code",
      "source": [
        "def windowed_dataset(series, window_size, batch_size, shuffle):\n",
        "    series = tf.expand_dims(series, axis=-1)\n",
        "    ds = tf.data.Dataset.from_tensor_slices(series)\n",
        "    ds = ds.window(window_size + 1, shift=1, drop_remainder=True)\n",
        "    ds = ds.flat_map(lambda w: w.batch(window_size + 1))\n",
        "    if shuffle:\n",
        "        ds = ds.shuffle(1000)\n",
        "    ds = ds.map(lambda w: (w[:-1], w[-1]))\n",
        "    return ds.batch(batch_size).prefetch(1)"
      ],
      "metadata": {
        "id": "fwz1jiQDImz9"
      },
      "execution_count": null,
      "outputs": []
    },
    {
      "cell_type": "code",
      "source": [
        "# 하이퍼 파라미터 정의\n",
        "\n",
        "WINDOW_SIZE = 20\n",
        "BATCH_SIZE = 32"
      ],
      "metadata": {
        "id": "TB4LVgz9ImxB"
      },
      "execution_count": null,
      "outputs": []
    },
    {
      "cell_type": "code",
      "source": [
        "train_data = windowed_dataset(y_train, WINDOW_SIZE, BATCH_SIZE, True)\n",
        "test_data = windowed_dataset(y_test, WINDOW_SIZE, BATCH_SIZE, False)"
      ],
      "metadata": {
        "id": "x_4RDAsIImuc"
      },
      "execution_count": null,
      "outputs": []
    },
    {
      "cell_type": "code",
      "source": [
        "for data in train_data.take(1):\n",
        "    print(f'데이터셋(X) 구성(batch_size, window_size, feature갯수): {data[0].shape}')\n",
        "    print(f'데이터셋(Y) 구성(batch_size, window_size, feature갯수): {data[1].shape}')"
      ],
      "metadata": {
        "colab": {
          "base_uri": "https://localhost:8080/"
        },
        "id": "cMM1yDs1Imrr",
        "outputId": "144b9d32-5423-4420-e6ff-5d65c3a69d9d"
      },
      "execution_count": null,
      "outputs": [
        {
          "output_type": "stream",
          "name": "stdout",
          "text": [
            "데이터셋(X) 구성(batch_size, window_size, feature갯수): (32, 20, 1)\n",
            "데이터셋(Y) 구성(batch_size, window_size, feature갯수): (32, 1)\n"
          ]
        }
      ]
    },
    {
      "cell_type": "code",
      "source": [
        ""
      ],
      "metadata": {
        "id": "dGhNbtk1Imoz"
      },
      "execution_count": null,
      "outputs": []
    },
    {
      "cell_type": "markdown",
      "source": [
        "### 모델"
      ],
      "metadata": {
        "id": "40Fwma-aX2wW"
      }
    },
    {
      "cell_type": "code",
      "source": [
        "from tensorflow.keras.models import Sequential\n",
        "from tensorflow.keras.layers import Dense, LSTM, Conv1D, Lambda\n",
        "from tensorflow.keras.losses import Huber\n",
        "from tensorflow.keras.optimizers import Adam\n",
        "from tensorflow.keras.callbacks import EarlyStopping, ModelCheckpoint\n",
        "\n",
        "\n",
        "model = Sequential([\n",
        "    # 1차원 feature map 생성\n",
        "    Conv1D(filters=32, kernel_size=5,\n",
        "           padding=\"causal\",\n",
        "           activation=\"relu\",\n",
        "           input_shape=[WINDOW_SIZE, 1]),\n",
        "    # LSTM\n",
        "    LSTM(16, activation='tanh'),\n",
        "    Dense(16, activation=\"relu\"),\n",
        "    Dense(1),\n",
        "])"
      ],
      "metadata": {
        "id": "ZLKAKFMDImmD"
      },
      "execution_count": null,
      "outputs": []
    },
    {
      "cell_type": "code",
      "source": [
        "# Sequence 학습에 비교적 좋은 퍼포먼스를 내는 Huber()를 사용합니다.\n",
        "loss = Huber()\n",
        "optimizer = Adam(0.0005)\n",
        "model.compile(loss = Huber(), optimizer = optimizer, metrics = ['mse'])"
      ],
      "metadata": {
        "id": "hPBcHvA4Imez"
      },
      "execution_count": null,
      "outputs": []
    },
    {
      "cell_type": "code",
      "source": [
        "# earlystopping은 10번 epoch통안 val_loss 개선이 없다면 학습을 멈춥니다.\n",
        "earlystopping = EarlyStopping(monitor = 'val_loss', patience = 10)\n",
        "\n",
        "# val_loss 기준 체크포인터도 생성합니다.\n",
        "filename = os.path.join('tmp', 'ckeckpointer.ckpt')\n",
        "checkpoint = ModelCheckpoint(filename, \n",
        "                             save_weights_only = True, \n",
        "                             save_best_only = True, \n",
        "                             monitor = 'val_loss', \n",
        "                             verbose = 1)"
      ],
      "metadata": {
        "id": "UZ1y764sX_i4"
      },
      "execution_count": null,
      "outputs": []
    },
    {
      "cell_type": "code",
      "source": [
        "history = model.fit(train_data, \n",
        "                    validation_data = (test_data), \n",
        "                    epochs = 50, \n",
        "                    callbacks = [checkpoint, earlystopping])"
      ],
      "metadata": {
        "colab": {
          "base_uri": "https://localhost:8080/"
        },
        "id": "xjNovXDHX_f4",
        "outputId": "12f77656-f255-47e5-fa1e-5228de40ab23"
      },
      "execution_count": null,
      "outputs": [
        {
          "output_type": "stream",
          "name": "stdout",
          "text": [
            "Epoch 1/50\n",
            "    138/Unknown - 5s 14ms/step - loss: 8.5267e-05 - mse: 1.7053e-04\n",
            "Epoch 1: val_loss improved from inf to 0.00160, saving model to tmp/ckeckpointer.ckpt\n",
            "142/142 [==============================] - 6s 22ms/step - loss: 8.4303e-05 - mse: 1.6861e-04 - val_loss: 0.0016 - val_mse: 0.0032\n",
            "Epoch 2/50\n",
            "141/142 [============================>.] - ETA: 0s - loss: 2.3272e-05 - mse: 4.6543e-05\n",
            "Epoch 2: val_loss improved from 0.00160 to 0.00089, saving model to tmp/ckeckpointer.ckpt\n",
            "142/142 [==============================] - 2s 15ms/step - loss: 2.3279e-05 - mse: 4.6559e-05 - val_loss: 8.8647e-04 - val_mse: 0.0018\n",
            "Epoch 3/50\n",
            "138/142 [============================>.] - ETA: 0s - loss: 2.2757e-05 - mse: 4.5514e-05\n",
            "Epoch 3: val_loss did not improve from 0.00089\n",
            "142/142 [==============================] - 2s 15ms/step - loss: 2.3325e-05 - mse: 4.6651e-05 - val_loss: 0.0012 - val_mse: 0.0024\n",
            "Epoch 4/50\n",
            "141/142 [============================>.] - ETA: 0s - loss: 2.4124e-05 - mse: 4.8248e-05\n",
            "Epoch 4: val_loss did not improve from 0.00089\n",
            "142/142 [==============================] - 2s 16ms/step - loss: 2.4115e-05 - mse: 4.8230e-05 - val_loss: 0.0012 - val_mse: 0.0025\n",
            "Epoch 5/50\n",
            "140/142 [============================>.] - ETA: 0s - loss: 2.0761e-05 - mse: 4.1523e-05\n",
            "Epoch 5: val_loss improved from 0.00089 to 0.00062, saving model to tmp/ckeckpointer.ckpt\n",
            "142/142 [==============================] - 2s 16ms/step - loss: 2.1229e-05 - mse: 4.2457e-05 - val_loss: 6.2141e-04 - val_mse: 0.0012\n",
            "Epoch 6/50\n",
            "138/142 [============================>.] - ETA: 0s - loss: 2.6672e-05 - mse: 5.3344e-05\n",
            "Epoch 6: val_loss did not improve from 0.00062\n",
            "142/142 [==============================] - 2s 15ms/step - loss: 2.6928e-05 - mse: 5.3856e-05 - val_loss: 0.0023 - val_mse: 0.0046\n",
            "Epoch 7/50\n",
            "140/142 [============================>.] - ETA: 0s - loss: 2.8137e-05 - mse: 5.6275e-05\n",
            "Epoch 7: val_loss did not improve from 0.00062\n",
            "142/142 [==============================] - 2s 16ms/step - loss: 2.8206e-05 - mse: 5.6412e-05 - val_loss: 0.0013 - val_mse: 0.0026\n",
            "Epoch 8/50\n",
            "138/142 [============================>.] - ETA: 0s - loss: 2.0953e-05 - mse: 4.1905e-05\n",
            "Epoch 8: val_loss did not improve from 0.00062\n",
            "142/142 [==============================] - 2s 16ms/step - loss: 2.1239e-05 - mse: 4.2477e-05 - val_loss: 0.0014 - val_mse: 0.0027\n",
            "Epoch 9/50\n",
            "137/142 [===========================>..] - ETA: 0s - loss: 2.2950e-05 - mse: 4.5899e-05\n",
            "Epoch 9: val_loss did not improve from 0.00062\n",
            "142/142 [==============================] - 2s 16ms/step - loss: 2.4215e-05 - mse: 4.8430e-05 - val_loss: 0.0017 - val_mse: 0.0035\n",
            "Epoch 10/50\n",
            "141/142 [============================>.] - ETA: 0s - loss: 2.1909e-05 - mse: 4.3817e-05\n",
            "Epoch 10: val_loss did not improve from 0.00062\n",
            "142/142 [==============================] - 2s 16ms/step - loss: 2.1949e-05 - mse: 4.3898e-05 - val_loss: 0.0013 - val_mse: 0.0026\n",
            "Epoch 11/50\n",
            "141/142 [============================>.] - ETA: 0s - loss: 1.9341e-05 - mse: 3.8682e-05\n",
            "Epoch 11: val_loss did not improve from 0.00062\n",
            "142/142 [==============================] - 2s 15ms/step - loss: 1.9329e-05 - mse: 3.8658e-05 - val_loss: 0.0014 - val_mse: 0.0028\n",
            "Epoch 12/50\n",
            "139/142 [============================>.] - ETA: 0s - loss: 1.9097e-05 - mse: 3.8194e-05\n",
            "Epoch 12: val_loss did not improve from 0.00062\n",
            "142/142 [==============================] - 2s 16ms/step - loss: 1.9338e-05 - mse: 3.8675e-05 - val_loss: 0.0019 - val_mse: 0.0038\n",
            "Epoch 13/50\n",
            "139/142 [============================>.] - ETA: 0s - loss: 2.2273e-05 - mse: 4.4546e-05\n",
            "Epoch 13: val_loss did not improve from 0.00062\n",
            "142/142 [==============================] - 2s 16ms/step - loss: 2.2502e-05 - mse: 4.5004e-05 - val_loss: 0.0013 - val_mse: 0.0027\n",
            "Epoch 14/50\n",
            "137/142 [===========================>..] - ETA: 0s - loss: 1.8142e-05 - mse: 3.6283e-05\n",
            "Epoch 14: val_loss did not improve from 0.00062\n",
            "142/142 [==============================] - 2s 16ms/step - loss: 1.9054e-05 - mse: 3.8108e-05 - val_loss: 9.2594e-04 - val_mse: 0.0019\n",
            "Epoch 15/50\n",
            "141/142 [============================>.] - ETA: 0s - loss: 1.7671e-05 - mse: 3.5341e-05\n",
            "Epoch 15: val_loss did not improve from 0.00062\n",
            "142/142 [==============================] - 2s 15ms/step - loss: 1.7696e-05 - mse: 3.5393e-05 - val_loss: 9.1577e-04 - val_mse: 0.0018\n"
          ]
        }
      ]
    },
    {
      "cell_type": "code",
      "source": [
        "# 저장한 ModelCheckpoint 불러오기\n",
        "model.load_weights(filename)"
      ],
      "metadata": {
        "colab": {
          "base_uri": "https://localhost:8080/"
        },
        "id": "r69vtt2nX_de",
        "outputId": "ae8e428e-e25a-43e4-92b4-75d9b4a42a8f"
      },
      "execution_count": null,
      "outputs": [
        {
          "output_type": "execute_result",
          "data": {
            "text/plain": [
              "<tensorflow.python.training.tracking.util.CheckpointLoadStatus at 0x7f3f0b079e10>"
            ]
          },
          "metadata": {},
          "execution_count": 22
        }
      ]
    },
    {
      "cell_type": "code",
      "source": [
        "pred = model.predict(test_data)\n",
        "pred.shape"
      ],
      "metadata": {
        "colab": {
          "base_uri": "https://localhost:8080/"
        },
        "id": "OOpiuHNLX_a4",
        "outputId": "71db3dc3-c306-4cea-a1a2-1df90a765c1f"
      },
      "execution_count": null,
      "outputs": [
        {
          "output_type": "execute_result",
          "data": {
            "text/plain": [
              "(1114, 1)"
            ]
          },
          "metadata": {},
          "execution_count": 23
        }
      ]
    },
    {
      "cell_type": "code",
      "source": [
        ""
      ],
      "metadata": {
        "id": "Wu7LLndmX_Xu"
      },
      "execution_count": null,
      "outputs": []
    },
    {
      "cell_type": "markdown",
      "source": [
        "### 예측 데이터 시각화"
      ],
      "metadata": {
        "id": "6CTTyfgmYjJS"
      }
    },
    {
      "cell_type": "code",
      "source": [
        "plt.figure(figsize = (12, 9))\n",
        "plt.plot(np.asarray(y_test)[20:], label = 'actual')\n",
        "plt.plot(pred, label = 'prediction')\n",
        "plt.legend()\n",
        "plt.show()"
      ],
      "metadata": {
        "colab": {
          "base_uri": "https://localhost:8080/",
          "height": 492
        },
        "id": "WznGhI-hX_VK",
        "outputId": "0beca7cd-8e0f-4cd3-be41-9324dc01d036"
      },
      "execution_count": null,
      "outputs": [
        {
          "output_type": "display_data",
          "data": {
            "text/plain": [
              "<Figure size 864x648 with 1 Axes>"
            ],
            "image/png": "[encoded data removed]"
          },
          "metadata": {
            "needs_background": "light"
          }
        }
      ]
    },
    {
      "cell_type": "markdown",
      "source": [
        "위에 시각화 코드중 y_test 데이터에 [20:]으로 슬라이싱을 한 이유는 예측 데이터에서 20일치의 데이터로 21일치를 예측해야하기 때문에 test_data로 예측 시 앞의 20일은 예측하지 않습니다.\n",
        "\n",
        "따라서, 20번째 index와 비교하면 더욱 정확합니다."
      ],
      "metadata": {
        "id": "kB33GpTwYp99"
      }
    }
  ]
}