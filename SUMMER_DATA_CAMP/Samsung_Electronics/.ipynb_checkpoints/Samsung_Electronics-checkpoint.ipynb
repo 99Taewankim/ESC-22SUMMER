{
 "cells": [
  {
   "cell_type": "markdown",
   "metadata": {
    "id": "Z_XelTIP2ZbO"
   },
   "source": [
    "# 🐈 삼성전자 주가 예측하기\n"
   ]
  },
  {
   "cell_type": "markdown",
   "metadata": {
    "id": "NMRbfAG02ZOu"
   },
   "source": [
    "이번에는 LSTM을 이용해서 삼성전자 주가를 예측해봅시다!"
   ]
  },
  {
   "cell_type": "markdown",
   "metadata": {
    "id": "RbY9MecdsrQQ"
   },
   "source": [
    "## 위 코드는 유튜버 테디노트 님의 영상 및 블로그를 참고하여 작성했습니다.\n",
    "\n",
    "https://www.youtube.com/c/teddynote/featured\n",
    "\n",
    "https://teddylee777.github.io/tensorflow/lstm-stock-forecast\n"
   ]
  },
  {
   "cell_type": "code",
   "execution_count": 1,
   "metadata": {
    "id": "-uMJygmDtUC4"
   },
   "outputs": [],
   "source": [
    "#필요한 라이브러리\n",
    "\n",
    "import pandas as pd\n",
    "import numpy as np\n",
    "import matplotlib.pyplot as plt\n",
    "import seaborn as sns\n",
    "import warnings\n",
    "import os\n",
    "\n",
    "%matplotlib inline\n",
    "warnings.filterwarnings('ignore')\n",
    "\n",
    "plt.rcParams['font.family'] = 'NanumGothic'"
   ]
  },
  {
   "cell_type": "markdown",
   "metadata": {
    "id": "nx-yV-te5z4-"
   },
   "source": [
    "https://finance.yahoo.com/quote/005930.KS?p=005930.KS"
   ]
  },
  {
   "cell_type": "markdown",
   "metadata": {
    "id": "95Sit1lC6O2y"
   },
   "source": [
    "Historical Data에 들어가서 기간과 일별, 주간별, 월별로 csv 파일을 다운받을 수 있습니다!"
   ]
  },
  {
   "cell_type": "code",
   "execution_count": 2,
   "metadata": {
    "id": "8st9hK6A5SnH"
   },
   "outputs": [],
   "source": [
    "# 데이터 불러오기\n",
    "df = pd.read_csv('005930.KS.csv')"
   ]
  },
  {
   "cell_type": "code",
   "execution_count": 3,
   "metadata": {
    "colab": {
     "base_uri": "https://localhost:8080/",
     "height": 206
    },
    "id": "iSnqqdB05qc7",
    "outputId": "62280fe8-81b2-48f2-a239-6fe18d13ab7b"
   },
   "outputs": [
    {
     "data": {
      "text/html": [
       "<div>\n",
       "<style scoped>\n",
       "    .dataframe tbody tr th:only-of-type {\n",
       "        vertical-align: middle;\n",
       "    }\n",
       "\n",
       "    .dataframe tbody tr th {\n",
       "        vertical-align: top;\n",
       "    }\n",
       "\n",
       "    .dataframe thead th {\n",
       "        text-align: right;\n",
       "    }\n",
       "</style>\n",
       "<table border=\"1\" class=\"dataframe\">\n",
       "  <thead>\n",
       "    <tr style=\"text-align: right;\">\n",
       "      <th></th>\n",
       "      <th>Date</th>\n",
       "      <th>Open</th>\n",
       "      <th>High</th>\n",
       "      <th>Low</th>\n",
       "      <th>Close</th>\n",
       "      <th>Adj Close</th>\n",
       "      <th>Volume</th>\n",
       "    </tr>\n",
       "  </thead>\n",
       "  <tbody>\n",
       "    <tr>\n",
       "      <th>0</th>\n",
       "      <td>2000-01-04</td>\n",
       "      <td>6000.0</td>\n",
       "      <td>6110.0</td>\n",
       "      <td>5660.0</td>\n",
       "      <td>6110.0</td>\n",
       "      <td>4623.467773</td>\n",
       "      <td>74195000</td>\n",
       "    </tr>\n",
       "    <tr>\n",
       "      <th>1</th>\n",
       "      <td>2000-01-05</td>\n",
       "      <td>5800.0</td>\n",
       "      <td>6060.0</td>\n",
       "      <td>5520.0</td>\n",
       "      <td>5580.0</td>\n",
       "      <td>4222.415527</td>\n",
       "      <td>74680000</td>\n",
       "    </tr>\n",
       "    <tr>\n",
       "      <th>2</th>\n",
       "      <td>2000-01-06</td>\n",
       "      <td>5750.0</td>\n",
       "      <td>5780.0</td>\n",
       "      <td>5580.0</td>\n",
       "      <td>5620.0</td>\n",
       "      <td>4252.682617</td>\n",
       "      <td>54390000</td>\n",
       "    </tr>\n",
       "    <tr>\n",
       "      <th>3</th>\n",
       "      <td>2000-01-07</td>\n",
       "      <td>5560.0</td>\n",
       "      <td>5670.0</td>\n",
       "      <td>5360.0</td>\n",
       "      <td>5540.0</td>\n",
       "      <td>4192.145508</td>\n",
       "      <td>40305000</td>\n",
       "    </tr>\n",
       "    <tr>\n",
       "      <th>4</th>\n",
       "      <td>2000-01-10</td>\n",
       "      <td>5600.0</td>\n",
       "      <td>5770.0</td>\n",
       "      <td>5580.0</td>\n",
       "      <td>5770.0</td>\n",
       "      <td>4366.187500</td>\n",
       "      <td>46880000</td>\n",
       "    </tr>\n",
       "  </tbody>\n",
       "</table>\n",
       "</div>"
      ],
      "text/plain": [
       "         Date    Open    High     Low   Close    Adj Close    Volume\n",
       "0  2000-01-04  6000.0  6110.0  5660.0  6110.0  4623.467773  74195000\n",
       "1  2000-01-05  5800.0  6060.0  5520.0  5580.0  4222.415527  74680000\n",
       "2  2000-01-06  5750.0  5780.0  5580.0  5620.0  4252.682617  54390000\n",
       "3  2000-01-07  5560.0  5670.0  5360.0  5540.0  4192.145508  40305000\n",
       "4  2000-01-10  5600.0  5770.0  5580.0  5770.0  4366.187500  46880000"
      ]
     },
     "execution_count": 3,
     "metadata": {},
     "output_type": "execute_result"
    }
   ],
   "source": [
    "df.head(5)"
   ]
  },
  {
   "cell_type": "code",
   "execution_count": 4,
   "metadata": {
    "colab": {
     "base_uri": "https://localhost:8080/",
     "height": 206
    },
    "id": "nqvTalxo5tMZ",
    "outputId": "92e3814f-7282-4de9-a952-dc04925ed550"
   },
   "outputs": [
    {
     "data": {
      "text/html": [
       "<div>\n",
       "<style scoped>\n",
       "    .dataframe tbody tr th:only-of-type {\n",
       "        vertical-align: middle;\n",
       "    }\n",
       "\n",
       "    .dataframe tbody tr th {\n",
       "        vertical-align: top;\n",
       "    }\n",
       "\n",
       "    .dataframe thead th {\n",
       "        text-align: right;\n",
       "    }\n",
       "</style>\n",
       "<table border=\"1\" class=\"dataframe\">\n",
       "  <thead>\n",
       "    <tr style=\"text-align: right;\">\n",
       "      <th></th>\n",
       "      <th>Date</th>\n",
       "      <th>Open</th>\n",
       "      <th>High</th>\n",
       "      <th>Low</th>\n",
       "      <th>Close</th>\n",
       "      <th>Adj Close</th>\n",
       "      <th>Volume</th>\n",
       "    </tr>\n",
       "  </thead>\n",
       "  <tbody>\n",
       "    <tr>\n",
       "      <th>5665</th>\n",
       "      <td>2022-07-27</td>\n",
       "      <td>61300.0</td>\n",
       "      <td>61900.0</td>\n",
       "      <td>61200.0</td>\n",
       "      <td>61800.0</td>\n",
       "      <td>61800.0</td>\n",
       "      <td>7320997</td>\n",
       "    </tr>\n",
       "    <tr>\n",
       "      <th>5666</th>\n",
       "      <td>2022-07-28</td>\n",
       "      <td>62300.0</td>\n",
       "      <td>62600.0</td>\n",
       "      <td>61600.0</td>\n",
       "      <td>61900.0</td>\n",
       "      <td>61900.0</td>\n",
       "      <td>10745302</td>\n",
       "    </tr>\n",
       "    <tr>\n",
       "      <th>5667</th>\n",
       "      <td>2022-07-29</td>\n",
       "      <td>62400.0</td>\n",
       "      <td>62600.0</td>\n",
       "      <td>61300.0</td>\n",
       "      <td>61400.0</td>\n",
       "      <td>61400.0</td>\n",
       "      <td>15093120</td>\n",
       "    </tr>\n",
       "    <tr>\n",
       "      <th>5668</th>\n",
       "      <td>2022-08-01</td>\n",
       "      <td>61000.0</td>\n",
       "      <td>61700.0</td>\n",
       "      <td>60300.0</td>\n",
       "      <td>61300.0</td>\n",
       "      <td>61300.0</td>\n",
       "      <td>13154816</td>\n",
       "    </tr>\n",
       "    <tr>\n",
       "      <th>5669</th>\n",
       "      <td>2022-08-02</td>\n",
       "      <td>61200.0</td>\n",
       "      <td>61900.0</td>\n",
       "      <td>61000.0</td>\n",
       "      <td>61700.0</td>\n",
       "      <td>61700.0</td>\n",
       "      <td>13507749</td>\n",
       "    </tr>\n",
       "  </tbody>\n",
       "</table>\n",
       "</div>"
      ],
      "text/plain": [
       "            Date     Open     High      Low    Close  Adj Close    Volume\n",
       "5665  2022-07-27  61300.0  61900.0  61200.0  61800.0    61800.0   7320997\n",
       "5666  2022-07-28  62300.0  62600.0  61600.0  61900.0    61900.0  10745302\n",
       "5667  2022-07-29  62400.0  62600.0  61300.0  61400.0    61400.0  15093120\n",
       "5668  2022-08-01  61000.0  61700.0  60300.0  61300.0    61300.0  13154816\n",
       "5669  2022-08-02  61200.0  61900.0  61000.0  61700.0    61700.0  13507749"
      ]
     },
     "execution_count": 4,
     "metadata": {},
     "output_type": "execute_result"
    }
   ],
   "source": [
    "df.tail(5)"
   ]
  },
  {
   "cell_type": "code",
   "execution_count": 5,
   "metadata": {
    "colab": {
     "base_uri": "https://localhost:8080/"
    },
    "id": "Eehf7va4McAI",
    "outputId": "1a5b89a2-f5be-4c86-95bd-bd3a3cdf1dd1"
   },
   "outputs": [
    {
     "data": {
      "text/plain": [
       "Date         datetime64[ns]\n",
       "Open                float64\n",
       "High                float64\n",
       "Low                 float64\n",
       "Close               float64\n",
       "Adj Close           float64\n",
       "Volume                int64\n",
       "dtype: object"
      ]
     },
     "execution_count": 5,
     "metadata": {},
     "output_type": "execute_result"
    }
   ],
   "source": [
    "# 날짜 데이터를 문자형에서 날짜형으로 변환\n",
    "\n",
    "df['Date'] = pd.to_datetime(df['Date'])\n",
    "df.dtypes"
   ]
  },
  {
   "cell_type": "code",
   "execution_count": 6,
   "metadata": {
    "colab": {
     "base_uri": "https://localhost:8080/",
     "height": 250
    },
    "id": "11CODeKENrU3",
    "outputId": "41621ebf-fd2f-4f0c-b9e5-48e3fd86e9b9"
   },
   "outputs": [
    {
     "data": {
      "text/html": [
       "<div>\n",
       "<style scoped>\n",
       "    .dataframe tbody tr th:only-of-type {\n",
       "        vertical-align: middle;\n",
       "    }\n",
       "\n",
       "    .dataframe tbody tr th {\n",
       "        vertical-align: top;\n",
       "    }\n",
       "\n",
       "    .dataframe thead th {\n",
       "        text-align: right;\n",
       "    }\n",
       "</style>\n",
       "<table border=\"1\" class=\"dataframe\">\n",
       "  <thead>\n",
       "    <tr style=\"text-align: right;\">\n",
       "      <th></th>\n",
       "      <th>Date</th>\n",
       "      <th>Open</th>\n",
       "      <th>High</th>\n",
       "      <th>Low</th>\n",
       "      <th>Close</th>\n",
       "      <th>Adj Close</th>\n",
       "      <th>Volume</th>\n",
       "      <th>Year</th>\n",
       "      <th>Month</th>\n",
       "      <th>Day</th>\n",
       "    </tr>\n",
       "  </thead>\n",
       "  <tbody>\n",
       "    <tr>\n",
       "      <th>0</th>\n",
       "      <td>2000-01-04</td>\n",
       "      <td>6000.0</td>\n",
       "      <td>6110.0</td>\n",
       "      <td>5660.0</td>\n",
       "      <td>6110.0</td>\n",
       "      <td>4623.467773</td>\n",
       "      <td>74195000</td>\n",
       "      <td>2000</td>\n",
       "      <td>1</td>\n",
       "      <td>4</td>\n",
       "    </tr>\n",
       "    <tr>\n",
       "      <th>1</th>\n",
       "      <td>2000-01-05</td>\n",
       "      <td>5800.0</td>\n",
       "      <td>6060.0</td>\n",
       "      <td>5520.0</td>\n",
       "      <td>5580.0</td>\n",
       "      <td>4222.415527</td>\n",
       "      <td>74680000</td>\n",
       "      <td>2000</td>\n",
       "      <td>1</td>\n",
       "      <td>5</td>\n",
       "    </tr>\n",
       "    <tr>\n",
       "      <th>2</th>\n",
       "      <td>2000-01-06</td>\n",
       "      <td>5750.0</td>\n",
       "      <td>5780.0</td>\n",
       "      <td>5580.0</td>\n",
       "      <td>5620.0</td>\n",
       "      <td>4252.682617</td>\n",
       "      <td>54390000</td>\n",
       "      <td>2000</td>\n",
       "      <td>1</td>\n",
       "      <td>6</td>\n",
       "    </tr>\n",
       "    <tr>\n",
       "      <th>3</th>\n",
       "      <td>2000-01-07</td>\n",
       "      <td>5560.0</td>\n",
       "      <td>5670.0</td>\n",
       "      <td>5360.0</td>\n",
       "      <td>5540.0</td>\n",
       "      <td>4192.145508</td>\n",
       "      <td>40305000</td>\n",
       "      <td>2000</td>\n",
       "      <td>1</td>\n",
       "      <td>7</td>\n",
       "    </tr>\n",
       "    <tr>\n",
       "      <th>4</th>\n",
       "      <td>2000-01-10</td>\n",
       "      <td>5600.0</td>\n",
       "      <td>5770.0</td>\n",
       "      <td>5580.0</td>\n",
       "      <td>5770.0</td>\n",
       "      <td>4366.187500</td>\n",
       "      <td>46880000</td>\n",
       "      <td>2000</td>\n",
       "      <td>1</td>\n",
       "      <td>10</td>\n",
       "    </tr>\n",
       "  </tbody>\n",
       "</table>\n",
       "</div>"
      ],
      "text/plain": [
       "        Date    Open    High     Low   Close    Adj Close    Volume  Year  \\\n",
       "0 2000-01-04  6000.0  6110.0  5660.0  6110.0  4623.467773  74195000  2000   \n",
       "1 2000-01-05  5800.0  6060.0  5520.0  5580.0  4222.415527  74680000  2000   \n",
       "2 2000-01-06  5750.0  5780.0  5580.0  5620.0  4252.682617  54390000  2000   \n",
       "3 2000-01-07  5560.0  5670.0  5360.0  5540.0  4192.145508  40305000  2000   \n",
       "4 2000-01-10  5600.0  5770.0  5580.0  5770.0  4366.187500  46880000  2000   \n",
       "\n",
       "   Month  Day  \n",
       "0      1    4  \n",
       "1      1    5  \n",
       "2      1    6  \n",
       "3      1    7  \n",
       "4      1   10  "
      ]
     },
     "execution_count": 6,
     "metadata": {},
     "output_type": "execute_result"
    }
   ],
   "source": [
    "# 연, 월, 일 추출하기\n",
    "\n",
    "df['Year'] = df['Date'].dt.year\n",
    "df['Month'] = df['Date'].dt.month\n",
    "df['Day'] = df['Date'].dt.day\n",
    "\n",
    "df.head(5)"
   ]
  },
  {
   "cell_type": "code",
   "execution_count": 7,
   "metadata": {
    "colab": {
     "base_uri": "https://localhost:8080/"
    },
    "id": "iIQ-NfV0N_lM",
    "outputId": "6fc5aa46-4be3-47e4-9b05-c0e01cb37bbb"
   },
   "outputs": [
    {
     "data": {
      "text/plain": [
       "Date         datetime64[ns]\n",
       "Open                float64\n",
       "High                float64\n",
       "Low                 float64\n",
       "Close               float64\n",
       "Adj Close           float64\n",
       "Volume                int64\n",
       "Year                  int64\n",
       "Month                 int64\n",
       "Day                   int64\n",
       "dtype: object"
      ]
     },
     "execution_count": 7,
     "metadata": {},
     "output_type": "execute_result"
    }
   ],
   "source": [
    "df.dtypes # 연, 월, 일 모두 정수형 자료네요!"
   ]
  },
  {
   "cell_type": "code",
   "execution_count": 8,
   "metadata": {
    "colab": {
     "base_uri": "https://localhost:8080/",
     "height": 413
    },
    "id": "IQP_udeCOTbM",
    "outputId": "5e5a3fa1-70d5-4c34-8762-edbec6a2a0c4"
   },
   "outputs": [
    {
     "data": {
      "text/plain": [
       "Text(0, 0.5, 'price')"
      ]
     },
     "execution_count": 8,
     "metadata": {},
     "output_type": "execute_result"
    },
    {
     "data": {
      "image/png": "[encoded data removed]",
      "text/plain": [
       "<Figure size 1152x648 with 1 Axes>"
      ]
     },
     "metadata": {
      "needs_background": "light"
     },
     "output_type": "display_data"
    }
   ],
   "source": [
    "plt.figure(figsize=(16, 9))\n",
    "sns.lineplot(y = df['Adj Close'], x = df['Date'])\n",
    "plt.xlabel('time')\n",
    "plt.ylabel('price')"
   ]
  },
  {
   "cell_type": "markdown",
   "metadata": {
    "id": "KY2gN6dHEVMt"
   },
   "source": [
    "삼성전자 주식 종가를 도표로 나타내보니, 아주 미쳐 날뛰고 있네요... 허허... 주식을 시작하고 싶으시다면 이 데이터를 제공했던 야후 파이낸스에 들어가서 살펴보시는 건 어떨까요. ㅎㅎ"
   ]
  },
  {
   "cell_type": "code",
   "execution_count": 9,
   "metadata": {
    "colab": {
     "base_uri": "https://localhost:8080/"
    },
    "id": "UzQm74h0FQcq",
    "outputId": "889462c9-35f8-4f88-c8ed-bb21245f7178"
   },
   "outputs": [
    {
     "data": {
      "text/plain": [
       "array([[0.03942571, 0.03562314, 0.03720717, 0.03829161, 0.02963619,\n",
       "        0.45181622],\n",
       "       [0.03714676, 0.03509145, 0.03559945, 0.0322873 , 0.02498911,\n",
       "        0.45476966],\n",
       "       [0.03657703, 0.03211399, 0.03628847, 0.03274046, 0.02533982,\n",
       "        0.33121213],\n",
       "       ...,\n",
       "       [0.68208751, 0.63632497, 0.67615985, 0.66466523, 0.68751795,\n",
       "        0.09191073],\n",
       "       [0.66613491, 0.62675457, 0.66467616, 0.66353234, 0.68635923,\n",
       "        0.08010727],\n",
       "       [0.66841386, 0.62888133, 0.67271475, 0.66806389, 0.69099411,\n",
       "        0.08225649]])"
      ]
     },
     "execution_count": 9,
     "metadata": {},
     "output_type": "execute_result"
    }
   ],
   "source": [
    "# 데이터 전처리\n",
    "\n",
    "# 정규화\n",
    "from sklearn.preprocessing import MinMaxScaler\n",
    "\n",
    "scaler = MinMaxScaler()\n",
    "\n",
    "# 스케일을 적용할 column을 정의\n",
    "scale_cols = ['Open', 'High', 'Low', 'Close', 'Adj Close', 'Volume']\n",
    "\n",
    "# 스케일 후 columns\n",
    "scaled = scaler.fit_transform(df[scale_cols])\n",
    "scaled"
   ]
  },
  {
   "cell_type": "markdown",
   "metadata": {
    "id": "_9eUEuJWWTCc"
   },
   "source": [
    "스케일이 완료된 column으로 새로운 데이터 프레임을 생성합시다!"
   ]
  },
  {
   "cell_type": "code",
   "execution_count": 10,
   "metadata": {
    "id": "YZLzf1P2WO0Z"
   },
   "outputs": [],
   "source": [
    "df = pd.DataFrame(scaled, columns = scale_cols)"
   ]
  },
  {
   "cell_type": "code",
   "execution_count": 11,
   "metadata": {
    "colab": {
     "base_uri": "https://localhost:8080/"
    },
    "id": "hM7ORMNE6cfm",
    "outputId": "0c1e1a95-891c-4c8c-92e5-942eb82c5f41"
   },
   "outputs": [
    {
     "name": "stdout",
     "output_type": "stream",
     "text": [
      "[(4536, 5), (4536,)]\n",
      "[(1134, 5), (1134,)]\n"
     ]
    }
   ],
   "source": [
    "# train_test_split\n",
    "\n",
    "from sklearn.model_selection import train_test_split\n",
    "x_train, x_test, y_train, y_test = train_test_split(df.drop('Adj Close', 1),\n",
    "                                                    df['Adj Close'],\n",
    "                                                    test_size=0.2,\n",
    "                                                    random_state=0,\n",
    "                                                    shuffle=False)\n",
    "\n",
    "print([x_train.shape, y_train.shape])\n",
    "print([x_test.shape, y_test.shape])"
   ]
  },
  {
   "cell_type": "code",
   "execution_count": 12,
   "metadata": {
    "colab": {
     "base_uri": "https://localhost:8080/",
     "height": 424
    },
    "id": "qeBXgsS0W2Iq",
    "outputId": "167407f1-ab8a-4243-ba7e-ec9b90a07023"
   },
   "outputs": [
    {
     "data": {
      "text/html": [
       "<div>\n",
       "<style scoped>\n",
       "    .dataframe tbody tr th:only-of-type {\n",
       "        vertical-align: middle;\n",
       "    }\n",
       "\n",
       "    .dataframe tbody tr th {\n",
       "        vertical-align: top;\n",
       "    }\n",
       "\n",
       "    .dataframe thead th {\n",
       "        text-align: right;\n",
       "    }\n",
       "</style>\n",
       "<table border=\"1\" class=\"dataframe\">\n",
       "  <thead>\n",
       "    <tr style=\"text-align: right;\">\n",
       "      <th></th>\n",
       "      <th>Open</th>\n",
       "      <th>High</th>\n",
       "      <th>Low</th>\n",
       "      <th>Close</th>\n",
       "      <th>Volume</th>\n",
       "    </tr>\n",
       "  </thead>\n",
       "  <tbody>\n",
       "    <tr>\n",
       "      <th>0</th>\n",
       "      <td>0.039426</td>\n",
       "      <td>0.035623</td>\n",
       "      <td>0.037207</td>\n",
       "      <td>0.038292</td>\n",
       "      <td>0.451816</td>\n",
       "    </tr>\n",
       "    <tr>\n",
       "      <th>1</th>\n",
       "      <td>0.037147</td>\n",
       "      <td>0.035091</td>\n",
       "      <td>0.035599</td>\n",
       "      <td>0.032287</td>\n",
       "      <td>0.454770</td>\n",
       "    </tr>\n",
       "    <tr>\n",
       "      <th>2</th>\n",
       "      <td>0.036577</td>\n",
       "      <td>0.032114</td>\n",
       "      <td>0.036288</td>\n",
       "      <td>0.032740</td>\n",
       "      <td>0.331212</td>\n",
       "    </tr>\n",
       "    <tr>\n",
       "      <th>3</th>\n",
       "      <td>0.034412</td>\n",
       "      <td>0.030944</td>\n",
       "      <td>0.033762</td>\n",
       "      <td>0.031834</td>\n",
       "      <td>0.245440</td>\n",
       "    </tr>\n",
       "    <tr>\n",
       "      <th>4</th>\n",
       "      <td>0.034868</td>\n",
       "      <td>0.032008</td>\n",
       "      <td>0.036288</td>\n",
       "      <td>0.034440</td>\n",
       "      <td>0.285479</td>\n",
       "    </tr>\n",
       "    <tr>\n",
       "      <th>...</th>\n",
       "      <td>...</td>\n",
       "      <td>...</td>\n",
       "      <td>...</td>\n",
       "      <td>...</td>\n",
       "      <td>...</td>\n",
       "    </tr>\n",
       "    <tr>\n",
       "      <th>4531</th>\n",
       "      <td>0.561531</td>\n",
       "      <td>0.524670</td>\n",
       "      <td>0.565457</td>\n",
       "      <td>0.559307</td>\n",
       "      <td>0.053375</td>\n",
       "    </tr>\n",
       "    <tr>\n",
       "      <th>4532</th>\n",
       "      <td>0.564722</td>\n",
       "      <td>0.524670</td>\n",
       "      <td>0.559026</td>\n",
       "      <td>0.550470</td>\n",
       "      <td>0.069017</td>\n",
       "    </tr>\n",
       "    <tr>\n",
       "      <th>4533</th>\n",
       "      <td>0.555834</td>\n",
       "      <td>0.526584</td>\n",
       "      <td>0.558567</td>\n",
       "      <td>0.547525</td>\n",
       "      <td>0.123682</td>\n",
       "    </tr>\n",
       "    <tr>\n",
       "      <th>4534</th>\n",
       "      <td>0.554923</td>\n",
       "      <td>0.518077</td>\n",
       "      <td>0.552366</td>\n",
       "      <td>0.542540</td>\n",
       "      <td>0.090909</td>\n",
       "    </tr>\n",
       "    <tr>\n",
       "      <th>4535</th>\n",
       "      <td>0.547858</td>\n",
       "      <td>0.515525</td>\n",
       "      <td>0.553514</td>\n",
       "      <td>0.549111</td>\n",
       "      <td>0.044760</td>\n",
       "    </tr>\n",
       "  </tbody>\n",
       "</table>\n",
       "<p>4536 rows × 5 columns</p>\n",
       "</div>"
      ],
      "text/plain": [
       "          Open      High       Low     Close    Volume\n",
       "0     0.039426  0.035623  0.037207  0.038292  0.451816\n",
       "1     0.037147  0.035091  0.035599  0.032287  0.454770\n",
       "2     0.036577  0.032114  0.036288  0.032740  0.331212\n",
       "3     0.034412  0.030944  0.033762  0.031834  0.245440\n",
       "4     0.034868  0.032008  0.036288  0.034440  0.285479\n",
       "...        ...       ...       ...       ...       ...\n",
       "4531  0.561531  0.524670  0.565457  0.559307  0.053375\n",
       "4532  0.564722  0.524670  0.559026  0.550470  0.069017\n",
       "4533  0.555834  0.526584  0.558567  0.547525  0.123682\n",
       "4534  0.554923  0.518077  0.552366  0.542540  0.090909\n",
       "4535  0.547858  0.515525  0.553514  0.549111  0.044760\n",
       "\n",
       "[4536 rows x 5 columns]"
      ]
     },
     "execution_count": 12,
     "metadata": {},
     "output_type": "execute_result"
    }
   ],
   "source": [
    "x_train"
   ]
  },
  {
   "cell_type": "markdown",
   "metadata": {
    "id": "U50guymTXZdb"
   },
   "source": [
    "### Tensorflow Dataset을 활용한 시퀀스 데이터셋 구성"
   ]
  },
  {
   "cell_type": "code",
   "execution_count": 13,
   "metadata": {
    "id": "IYiQPUV3Im3J"
   },
   "outputs": [],
   "source": [
    "import tensorflow as tf"
   ]
  },
  {
   "cell_type": "code",
   "execution_count": 14,
   "metadata": {
    "id": "fwz1jiQDImz9"
   },
   "outputs": [],
   "source": [
    "def windowed_dataset(series, window_size, batch_size, shuffle):\n",
    "    series = tf.expand_dims(series, axis=-1)\n",
    "    ds = tf.data.Dataset.from_tensor_slices(series)\n",
    "    ds = ds.window(window_size + 1, shift=1, drop_remainder=True)\n",
    "    ds = ds.flat_map(lambda w: w.batch(window_size + 1))\n",
    "    if shuffle:\n",
    "        ds = ds.shuffle(1000)\n",
    "    ds = ds.map(lambda w: (w[:-1], w[-1]))\n",
    "    return ds.batch(batch_size).prefetch(1)"
   ]
  },
  {
   "cell_type": "code",
   "execution_count": 18,
   "metadata": {
    "id": "TB4LVgz9ImxB"
   },
   "outputs": [],
   "source": [
    "# 하이퍼 파라미터 정의\n",
    "\n",
    "WINDOW_SIZE = 20\n",
    "BATCH_SIZE = 32"
   ]
  },
  {
   "cell_type": "code",
   "execution_count": 19,
   "metadata": {
    "id": "x_4RDAsIImuc"
   },
   "outputs": [],
   "source": [
    "train_data = windowed_dataset(y_train, WINDOW_SIZE, BATCH_SIZE, True)\n",
    "test_data = windowed_dataset(y_test, WINDOW_SIZE, BATCH_SIZE, False)"
   ]
  },
  {
   "cell_type": "code",
   "execution_count": 20,
   "metadata": {
    "colab": {
     "base_uri": "https://localhost:8080/"
    },
    "id": "cMM1yDs1Imrr",
    "outputId": "144b9d32-5423-4420-e6ff-5d65c3a69d9d"
   },
   "outputs": [
    {
     "name": "stdout",
     "output_type": "stream",
     "text": [
      "데이터셋(X) 구성(batch_size, window_size, feature갯수): (32, 20, 1)\n",
      "데이터셋(Y) 구성(batch_size, window_size, feature갯수): (32, 1)\n"
     ]
    }
   ],
   "source": [
    "for data in train_data.take(1):\n",
    "    print(f'데이터셋(X) 구성(batch_size, window_size, feature갯수): {data[0].shape}')\n",
    "    print(f'데이터셋(Y) 구성(batch_size, window_size, feature갯수): {data[1].shape}')"
   ]
  },
  {
   "cell_type": "code",
   "execution_count": null,
   "metadata": {
    "id": "dGhNbtk1Imoz"
   },
   "outputs": [],
   "source": []
  },
  {
   "cell_type": "markdown",
   "metadata": {
    "id": "40Fwma-aX2wW"
   },
   "source": [
    "### 모델"
   ]
  },
  {
   "cell_type": "code",
   "execution_count": 21,
   "metadata": {
    "id": "ZLKAKFMDImmD"
   },
   "outputs": [],
   "source": [
    "from tensorflow.keras.models import Sequential\n",
    "from tensorflow.keras.layers import Dense, LSTM, Conv1D, Lambda\n",
    "from tensorflow.keras.losses import Huber\n",
    "from tensorflow.keras.optimizers import Adam\n",
    "from tensorflow.keras.callbacks import EarlyStopping, ModelCheckpoint\n",
    "\n",
    "\n",
    "model = Sequential([\n",
    "    # 1차원 feature map 생성\n",
    "    Conv1D(filters=32, kernel_size=5,\n",
    "           padding=\"causal\",\n",
    "           activation=\"relu\",\n",
    "           input_shape=[WINDOW_SIZE, 1]),\n",
    "    # LSTM\n",
    "    LSTM(16, activation='tanh'),\n",
    "    Dense(16, activation=\"relu\"),\n",
    "    Dense(1),\n",
    "])"
   ]
  },
  {
   "cell_type": "code",
   "execution_count": 22,
   "metadata": {
    "id": "hPBcHvA4Imez"
   },
   "outputs": [],
   "source": [
    "# Sequence 학습에 비교적 좋은 퍼포먼스를 내는 Huber()를 사용합니다.\n",
    "loss = Huber()\n",
    "optimizer = Adam(0.0005)\n",
    "model.compile(loss = Huber(), optimizer = optimizer, metrics = ['mse'])"
   ]
  },
  {
   "cell_type": "code",
   "execution_count": 23,
   "metadata": {
    "id": "UZ1y764sX_i4"
   },
   "outputs": [],
   "source": [
    "# earlystopping은 10번 epoch통안 val_loss 개선이 없다면 학습을 멈춥니다.\n",
    "earlystopping = EarlyStopping(monitor = 'val_loss', patience = 10)\n",
    "\n",
    "# val_loss 기준 체크포인터도 생성합니다.\n",
    "filename = os.path.join('tmp', 'ckeckpointer.ckpt')\n",
    "checkpoint = ModelCheckpoint(filename, \n",
    "                             save_weights_only = True, \n",
    "                             save_best_only = True, \n",
    "                             monitor = 'val_loss', \n",
    "                             verbose = 1)"
   ]
  },
  {
   "cell_type": "code",
   "execution_count": null,
   "metadata": {
    "colab": {
     "base_uri": "https://localhost:8080/"
    },
    "id": "xjNovXDHX_f4",
    "outputId": "12f77656-f255-47e5-fa1e-5228de40ab23"
   },
   "outputs": [
    {
     "name": "stdout",
     "output_type": "stream",
     "text": [
      "Epoch 1/50\n",
      "    140/Unknown - 6s 14ms/step - loss: 1.2039e-04 - mse: 2.4078e-04\n",
      "Epoch 1: val_loss improved from inf to 0.00152, saving model to tmp\\ckeckpointer.ckpt\n",
      "142/142 [==============================] - 9s 38ms/step - loss: 1.2018e-04 - mse: 2.4036e-04 - val_loss: 0.0015 - val_mse: 0.0030\n",
      "Epoch 2/50\n",
      "141/142 [============================>.] - ETA: 0s - loss: 2.5333e-05 - mse: 5.0667e-05\n",
      "Epoch 2: val_loss improved from 0.00152 to 0.00137, saving model to tmp\\ckeckpointer.ckpt\n",
      "142/142 [==============================] - 3s 17ms/step - loss: 2.5333e-05 - mse: 5.0666e-05 - val_loss: 0.0014 - val_mse: 0.0027\n",
      "Epoch 3/50\n",
      "142/142 [==============================] - ETA: 0s - loss: 2.2224e-05 - mse: 4.4447e-05\n",
      "Epoch 3: val_loss did not improve from 0.00137\n",
      "142/142 [==============================] - 2s 15ms/step - loss: 2.2224e-05 - mse: 4.4447e-05 - val_loss: 0.0015 - val_mse: 0.0030\n",
      "Epoch 4/50\n",
      "140/142 [============================>.] - ETA: 0s - loss: 2.1709e-05 - mse: 4.3418e-05\n",
      "Epoch 4: val_loss improved from 0.00137 to 0.00133, saving model to tmp\\ckeckpointer.ckpt\n",
      "142/142 [==============================] - 2s 16ms/step - loss: 2.2020e-05 - mse: 4.4040e-05 - val_loss: 0.0013 - val_mse: 0.0027\n",
      "Epoch 5/50\n",
      "140/142 [============================>.] - ETA: 0s - loss: 2.1572e-05 - mse: 4.3144e-05\n",
      "Epoch 5: val_loss did not improve from 0.00133\n",
      "142/142 [==============================] - 3s 17ms/step - loss: 2.1656e-05 - mse: 4.3313e-05 - val_loss: 0.0013 - val_mse: 0.0027\n",
      "Epoch 6/50\n",
      "140/142 [============================>.] - ETA: 0s - loss: 2.1529e-05 - mse: 4.3058e-05\n",
      "Epoch 6: val_loss improved from 0.00133 to 0.00116, saving model to tmp\\ckeckpointer.ckpt\n",
      "142/142 [==============================] - 3s 16ms/step - loss: 2.1567e-05 - mse: 4.3134e-05 - val_loss: 0.0012 - val_mse: 0.0023\n",
      "Epoch 7/50\n",
      "141/142 [============================>.] - ETA: 0s - loss: 2.1127e-05 - mse: 4.2255e-05\n",
      "Epoch 7: val_loss did not improve from 0.00116\n",
      "142/142 [==============================] - 3s 17ms/step - loss: 2.1191e-05 - mse: 4.2381e-05 - val_loss: 0.0015 - val_mse: 0.0030\n",
      "Epoch 8/50\n",
      "141/142 [============================>.] - ETA: 0s - loss: 2.1701e-05 - mse: 4.3402e-05\n",
      "Epoch 8: val_loss did not improve from 0.00116\n",
      "142/142 [==============================] - 2s 15ms/step - loss: 2.1690e-05 - mse: 4.3381e-05 - val_loss: 0.0015 - val_mse: 0.0030\n",
      "Epoch 9/50\n",
      "138/142 [============================>.] - ETA: 0s - loss: 1.9458e-05 - mse: 3.8916e-05\n",
      "Epoch 9: val_loss improved from 0.00116 to 0.00115, saving model to tmp\\ckeckpointer.ckpt\n",
      "142/142 [==============================] - 2s 12ms/step - loss: 2.0399e-05 - mse: 4.0798e-05 - val_loss: 0.0012 - val_mse: 0.0023\n",
      "Epoch 10/50\n",
      "138/142 [============================>.] - ETA: 0s - loss: 1.8334e-05 - mse: 3.6668e-05\n",
      "Epoch 10: val_loss did not improve from 0.00115\n",
      "142/142 [==============================] - 2s 11ms/step - loss: 1.8881e-05 - mse: 3.7762e-05 - val_loss: 0.0017 - val_mse: 0.0034\n",
      "Epoch 11/50\n",
      "139/142 [============================>.] - ETA: 0s - loss: 2.2761e-05 - mse: 4.5521e-05\n",
      "Epoch 11: val_loss did not improve from 0.00115\n",
      "142/142 [==============================] - 2s 11ms/step - loss: 2.3070e-05 - mse: 4.6140e-05 - val_loss: 0.0016 - val_mse: 0.0033\n",
      "Epoch 12/50\n",
      "137/142 [===========================>..] - ETA: 0s - loss: 1.6947e-05 - mse: 3.3894e-05\n",
      "Epoch 12: val_loss did not improve from 0.00115\n",
      "142/142 [==============================] - 2s 12ms/step - loss: 1.7511e-05 - mse: 3.5021e-05 - val_loss: 0.0012 - val_mse: 0.0024\n",
      "Epoch 13/50\n",
      "138/142 [============================>.] - ETA: 0s - loss: 1.7442e-05 - mse: 3.4884e-05\n",
      "Epoch 13: val_loss did not improve from 0.00115\n",
      "142/142 [==============================] - 2s 12ms/step - loss: 1.7611e-05 - mse: 3.5223e-05 - val_loss: 0.0012 - val_mse: 0.0024\n",
      "Epoch 14/50\n",
      "142/142 [==============================] - ETA: 0s - loss: 1.8967e-05 - mse: 3.7934e-05\n",
      "Epoch 14: val_loss did not improve from 0.00115\n",
      "142/142 [==============================] - 2s 14ms/step - loss: 1.8967e-05 - mse: 3.7934e-05 - val_loss: 0.0012 - val_mse: 0.0023\n",
      "Epoch 15/50\n",
      "138/142 [============================>.] - ETA: 0s - loss: 1.5660e-05 - mse: 3.1321e-05\n",
      "Epoch 15: val_loss improved from 0.00115 to 0.00089, saving model to tmp\\ckeckpointer.ckpt\n",
      "142/142 [==============================] - 3s 17ms/step - loss: 1.6156e-05 - mse: 3.2311e-05 - val_loss: 8.8701e-04 - val_mse: 0.0018\n",
      "Epoch 16/50\n",
      "140/142 [============================>.] - ETA: 0s - loss: 1.7739e-05 - mse: 3.5478e-05\n",
      "Epoch 16: val_loss improved from 0.00089 to 0.00052, saving model to tmp\\ckeckpointer.ckpt\n",
      "142/142 [==============================] - 3s 17ms/step - loss: 1.7839e-05 - mse: 3.5677e-05 - val_loss: 5.2333e-04 - val_mse: 0.0010\n",
      "Epoch 17/50\n",
      "141/142 [============================>.] - ETA: 0s - loss: 1.6058e-05 - mse: 3.2116e-05\n",
      "Epoch 17: val_loss improved from 0.00052 to 0.00052, saving model to tmp\\ckeckpointer.ckpt\n",
      "142/142 [==============================] - 3s 16ms/step - loss: 1.6066e-05 - mse: 3.2133e-05 - val_loss: 5.1775e-04 - val_mse: 0.0010\n",
      "Epoch 18/50\n",
      " 41/142 [=======>......................] - ETA: 1s - loss: 5.8197e-06 - mse: 1.1639e-05"
     ]
    }
   ],
   "source": [
    "history = model.fit(train_data, \n",
    "                    validation_data = (test_data), \n",
    "                    epochs = 50, \n",
    "                    callbacks = [checkpoint, earlystopping])"
   ]
  },
  {
   "cell_type": "code",
   "execution_count": null,
   "metadata": {
    "colab": {
     "base_uri": "https://localhost:8080/"
    },
    "id": "r69vtt2nX_de",
    "outputId": "ae8e428e-e25a-43e4-92b4-75d9b4a42a8f"
   },
   "outputs": [],
   "source": [
    "# 저장한 ModelCheckpoint 불러오기\n",
    "model.load_weights(filename)"
   ]
  },
  {
   "cell_type": "code",
   "execution_count": null,
   "metadata": {
    "colab": {
     "base_uri": "https://localhost:8080/"
    },
    "id": "OOpiuHNLX_a4",
    "outputId": "71db3dc3-c306-4cea-a1a2-1df90a765c1f"
   },
   "outputs": [],
   "source": [
    "pred = model.predict(test_data)\n",
    "pred.shape"
   ]
  },
  {
   "cell_type": "code",
   "execution_count": null,
   "metadata": {
    "id": "Wu7LLndmX_Xu"
   },
   "outputs": [],
   "source": []
  },
  {
   "cell_type": "markdown",
   "metadata": {
    "id": "6CTTyfgmYjJS"
   },
   "source": [
    "### 예측 데이터 시각화"
   ]
  },
  {
   "cell_type": "code",
   "execution_count": null,
   "metadata": {
    "colab": {
     "base_uri": "https://localhost:8080/",
     "height": 492
    },
    "id": "WznGhI-hX_VK",
    "outputId": "0beca7cd-8e0f-4cd3-be41-9324dc01d036"
   },
   "outputs": [],
   "source": [
    "plt.figure(figsize = (12, 9))\n",
    "plt.plot(np.asarray(y_test)[20:], label = 'actual')\n",
    "plt.plot(pred, label = 'prediction')\n",
    "plt.legend()\n",
    "plt.show()"
   ]
  },
  {
   "cell_type": "markdown",
   "metadata": {
    "id": "kB33GpTwYp99"
   },
   "source": [
    "위에 시각화 코드중 y_test 데이터에 [20:]으로 슬라이싱을 한 이유는 예측 데이터에서 20일치의 데이터로 21일치를 예측해야하기 때문에 test_data로 예측 시 앞의 20일은 예측하지 않습니다.\n",
    "\n",
    "따라서, 20번째 index와 비교하면 더욱 정확합니다."
   ]
  }
 ],
 "metadata": {
  "colab": {
   "collapsed_sections": [],
   "name": "Samsung Electronics.ipynb",
   "provenance": []
  },
  "kernelspec": {
   "display_name": "Python 3 (ipykernel)",
   "language": "python",
   "name": "python3"
  },
  "language_info": {
   "codemirror_mode": {
    "name": "ipython",
    "version": 3
   },
   "file_extension": ".py",
   "mimetype": "text/x-python",
   "name": "python",
   "nbconvert_exporter": "python",
   "pygments_lexer": "ipython3",
   "version": "3.10.5"
  }
 },
 "nbformat": 4,
 "nbformat_minor": 1
}
