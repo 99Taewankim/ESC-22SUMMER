{
 "cells": [
  {
   "cell_type": "markdown",
   "metadata": {
    "id": "8LyXo5qcXYmj"
   },
   "source": [
    "# 출처:http://allendowney.github.io/ThinkBayes2/chap04.html"
   ]
  },
  {
   "cell_type": "markdown",
   "metadata": {
    "id": "-0ANfSCcYCj9"
   },
   "source": [
    "Whenever you survey people about sensitive issues, you have to deal with social desirability bias, which is the tendency of people to adjust their answers to show themselves in the most positive light. One way to improve the accuracy of the results is randomized response.\n",
    "\n",
    "As an example, suppose you want to know how many people cheat on their taxes. If you ask them directly, it is likely that some of the cheaters will lie. You can get a more accurate estimate if you ask them indirectly, like this: Ask each person to flip a coin and, without revealing the outcome,\n",
    "\n",
    "If they get heads, they report YES.\n",
    "\n",
    "If they get tails, they honestly answer the question “Do you cheat on your taxes?”\n",
    "\n",
    "If someone says YES, we don’t know whether they actually cheat on their taxes; they might have flipped heads. Knowing this, people might be more willing to answer honestly.\n",
    "\n",
    "Suppose you survey 100 people this way and get 80 YESes and 20 NOs. Based on this data, what is the posterior distribution for the fraction of people who cheat on their taxes? What is the most likely quantity in the posterior distribution?"
   ]
  },
  {
   "cell_type": "code",
   "execution_count": null,
   "metadata": {
    "id": "Nwddt3mZ8Kr9"
   },
   "outputs": [],
   "source": [
    "import matplotlib\n",
    "import matplotlib.pyplot as plt\n",
    "import numpy as np\n",
    "from scipy.stats import beta"
   ]
  },
  {
   "cell_type": "code",
   "execution_count": null,
   "metadata": {
    "id": "JkUKrqW08koW"
   },
   "outputs": [],
   "source": [
    "!pip install empiricaldist\n",
    "from empiricaldist import Pmf"
   ]
  },
  {
   "cell_type": "code",
   "execution_count": null,
   "metadata": {
    "id": "VY2XpAfr8kku"
   },
   "outputs": [],
   "source": [
    "a=1;b=1 #beta(1,1)\n",
    "hypos=np.linspace(0,1,101)\n",
    "x=beta.pdf(hypos,a,b)\n",
    "prior=Pmf(x,hypos)"
   ]
  },
  {
   "cell_type": "code",
   "execution_count": null,
   "metadata": {
    "id": "9coGgv1nI3FB"
   },
   "outputs": [],
   "source": [
    "plt.plot(hypos,x) #prior plot"
   ]
  },
  {
   "cell_type": "code",
   "execution_count": null,
   "metadata": {
    "id": "MdAMUxga8js-"
   },
   "outputs": [],
   "source": [
    "likelihood={'Y':0.5+hypos/2, 'N':(1-hypos)/2} #Q1 WHY?? IS THIS BINOMIAL MODEL?"
   ]
  },
  {
   "cell_type": "markdown",
   "metadata": {
    "id": "7y0I6HQOQ6wo"
   },
   "source": [
    "# Q1 : Likelihood 함수가 이와 같이 나오는 이유를 설명해주세요. 그리고 이와 같은 sampling model은 binomial model인가요? 왜 그런가요?"
   ]
  },
  {
   "cell_type": "code",
   "execution_count": null,
   "metadata": {
    "id": "hmRlb_U-8jSm"
   },
   "outputs": [],
   "source": [
    "dataset='Y'*80+'N'*20 #DATA 80 YES, 20 NO\n",
    "posterior1=prior.copy()\n",
    "for data in dataset:\n",
    "    posterior1 *= likelihood[data]\n",
    "posterior1.normalize()"
   ]
  },
  {
   "cell_type": "code",
   "execution_count": null,
   "metadata": {
    "id": "uB5AlwhB9_ue"
   },
   "outputs": [],
   "source": [
    "posterior1.plot(label='80 YES, 20 NO',xlabel='Proportion of cheaters',ylabel='PMF')\n",
    "plt.legend() #Q2 WHY MODE ON 0.6? DATA IS 80 YES & 20 NO. WHY NOT 0.8?"
   ]
  },
  {
   "cell_type": "markdown",
   "metadata": {
    "id": "nTNjAPXDRWnX"
   },
   "source": [
    "# Q2 : 우리가 구한 Posterior 분포의 꼴이 왜 다음과 같이 나왔을까요? prior의 꼴과 data와 관련하여 설명해주세요. 그리고 data는 YES와 NO의 비율이 4:1인데 왜 posterior의 mode는 0.8이 아니라 0.6인걸까요?"
   ]
  },
  {
   "cell_type": "code",
   "execution_count": null,
   "metadata": {
    "id": "nKoQIXgW9_r1"
   },
   "outputs": [],
   "source": [
    "dataset='Y'*800+'N'*200 #DATA 800 YES, 200 NO\n",
    "posterior2=prior.copy()\n",
    "for data in dataset:\n",
    "    posterior2 *= likelihood[data]\n",
    "posterior2.normalize()"
   ]
  },
  {
   "cell_type": "code",
   "execution_count": null,
   "metadata": {
    "id": "QNGUH1aY9_pM"
   },
   "outputs": [],
   "source": [
    "posterior2.plot(label='800 YES, 200 NO',xlabel='Proportion of cheaters',ylabel='PMF')\n",
    "plt.legend()"
   ]
  },
  {
   "cell_type": "code",
   "execution_count": null,
   "metadata": {
    "id": "cjrEMvUl9_mR"
   },
   "outputs": [],
   "source": [
    "posterior1.plot(label='80 YES, 20 NO')\n",
    "posterior2.plot(label='800 YES, 200 NO',xlabel='Proportion of cheaters',ylabel='PMF')\n",
    "plt.legend() #Q3 DIFFERENCE? WHY?"
   ]
  },
  {
   "cell_type": "markdown",
   "metadata": {
    "id": "NtjcWtcyUT6B"
   },
   "source": [
    "# Q3: 두 posterior 분포는 왜 이렇게 다른 꼴이 나오게 되었을까요?"
   ]
  },
  {
   "cell_type": "markdown",
   "metadata": {
    "id": "aKrH2t6hUwrf"
   },
   "source": [
    "# Q4: PRIOR와 DATA를 마음대로 바꿔가며 POSTERIOR 분포가 어떻게 변하는지 실험해보세요."
   ]
  },
  {
   "cell_type": "code",
   "execution_count": null,
   "metadata": {
    "id": "kYm_9Ulu9_jf"
   },
   "outputs": [],
   "source": [
    "#Q4 PRIOR와 DATA를 마음대로 바꿔가며 POSTERIOR 분포가 어떻게 변하는지 실험해보세요.\n",
    "a=;b= #a,b SET YOUR OWN PRIOR beta(a,b)\n",
    "hypos=np.linspace(0,1,101)\n",
    "x=beta.pdf(hypos,a,b)\n",
    "prior=Pmf(x,hypos)"
   ]
  },
  {
   "cell_type": "code",
   "execution_count": null,
   "metadata": {
    "id": "OJPKv6bM9_gh"
   },
   "outputs": [],
   "source": [
    "plt.plot(hypos,x) # YOUR OWN PRIOR"
   ]
  },
  {
   "cell_type": "code",
   "execution_count": null,
   "metadata": {
    "id": "DsXVov_0JPd1"
   },
   "outputs": [],
   "source": [
    "dataset='Y'* +'N'* #GIVE THE DATA\n",
    "posterior3=prior.copy()\n",
    "for data in dataset:\n",
    "    posterior3 *= likelihood[data]\n",
    "posterior3.normalize()"
   ]
  },
  {
   "cell_type": "code",
   "execution_count": null,
   "metadata": {
    "id": "nkwHGSrrJPa8"
   },
   "outputs": [],
   "source": [
    "posterior3.plot(label=' YES,  NO',xlabel='Proportion of cheaters',ylabel='PMF')\n",
    "plt.legend()"
   ]
  },
  {
   "cell_type": "code",
   "execution_count": null,
   "metadata": {
    "id": "8qMt1CwyJPYC"
   },
   "outputs": [],
   "source": [
    "a=;b= #a,b SET YOUR OWN PRIOR \n",
    "hypos=np.linspace(0,1,101)\n",
    "x=beta.pdf(hypos,a,b)\n",
    "prior=Pmf(x,hypos)\n",
    "plt.plot(hypos,x) # YOUR OWN PRIOR"
   ]
  },
  {
   "cell_type": "code",
   "execution_count": null,
   "metadata": {
    "id": "89OeUBbFJPVF"
   },
   "outputs": [],
   "source": [
    "dataset='Y'* +'N'* #GIVE THE DATA\n",
    "posterior4=prior.copy()\n",
    "for data in dataset:\n",
    "    posterior4 *= likelihood[data]\n",
    "posterior4.normalize()"
   ]
  },
  {
   "cell_type": "code",
   "execution_count": null,
   "metadata": {
    "id": "TthRIt0MJPSL"
   },
   "outputs": [],
   "source": [
    "posterior4.plot(label=' YES,  NO',xlabel='Proportion of cheaters',ylabel='PMF')\n",
    "plt.legend()"
   ]
  },
  {
   "cell_type": "code",
   "execution_count": null,
   "metadata": {
    "id": "7a11axOWJPPf"
   },
   "outputs": [],
   "source": [
    "posterior3.plot(label=' YES,  NO')\n",
    "posterior4.plot(label=' YES,  NO',xlabel='Proportion of cheaters',ylabel='PMF')\n",
    "plt.legend()"
   ]
  },
  {
   "cell_type": "code",
   "execution_count": null,
   "metadata": {
    "id": "x9WiwwdtJPJw"
   },
   "outputs": [],
   "source": []
  },
  {
   "cell_type": "code",
   "execution_count": null,
   "metadata": {
    "id": "tpT2ksEOXwn_"
   },
   "outputs": [],
   "source": []
  },
  {
   "cell_type": "markdown",
   "metadata": {
    "id": "PyzhPY9uVCXG"
   },
   "source": [
    "%%%눈치채신 분도 계시겠지만 posterior분포의 밑넓이가 1은 아닙니다. 연속형 확률분포의 prior에 likelihood를 곱한게 아니라 linspace(0,1,101)로 쪼갠 x에 해당하는 pdf(x)값을 prior로 사용했기 때문에 엄밀히 말하면 prior가 분포는 되지 못하죠. 하지만 likelihood와의 곱을 통해 posterior의 꼴을 얻어 여러가지의 prior, data의 경우를 가질 때 posterior의 꼴의 비교를 할 수 있다는 점에 의의를 둬주시면 감사하겠습니다.(이산형으로 표현된 posterior의 꼴이고 normalize가 되었으므로 sum(posterior)는 1이 나오긴 합니당)%%% "
   ]
  },
  {
   "cell_type": "code",
   "execution_count": null,
   "metadata": {
    "id": "uBNgYxShJPG_"
   },
   "outputs": [],
   "source": [
    "sum(posterior1)"
   ]
  }
 ],
 "metadata": {
  "colab": {
   "collapsed_sections": [],
   "name": "WEEK2_lab.ipynb",
   "private_outputs": true,
   "provenance": []
  },
  "kernelspec": {
   "display_name": "Python 3 (ipykernel)",
   "language": "python",
   "name": "python3"
  },
  "language_info": {
   "codemirror_mode": {
    "name": "ipython",
    "version": 3
   },
   "file_extension": ".py",
   "mimetype": "text/x-python",
   "name": "python",
   "nbconvert_exporter": "python",
   "pygments_lexer": "ipython3",
   "version": "3.10.5"
  }
 },
 "nbformat": 4,
 "nbformat_minor": 1
}
