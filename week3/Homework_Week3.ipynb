{
 "cells": [
  {
   "cell_type": "code",
   "execution_count": 11,
   "metadata": {},
   "outputs": [],
   "source": [
    "import matplotlib.pyplot as plt\n",
    "import numpy as np\n",
    "from scipy.stats import t\n",
    "import math"
   ]
  },
  {
   "cell_type": "markdown",
   "metadata": {},
   "source": [
    "Marginal Posterior Dist. of mu"
   ]
  },
  {
   "cell_type": "markdown",
   "metadata": {},
   "source": [
    "From Chapter3, we learned that under normal data with nonimformative prior, we can obtain marginal posterior dist of mu by integration and it follows t dist.\n",
    "\n",
    "p(mu|sigma^2,y) ~t(df=n-1, loc=ybar, scale=sd/sqrt(n))\n",
    "\n",
    "what we want to do in this example is compare Marginal Posterior Dist by integration and sampling"
   ]
  },
  {
   "cell_type": "code",
   "execution_count": 12,
   "metadata": {},
   "outputs": [
    {
     "name": "stdout",
     "output_type": "stream",
     "text": [
      "CI of marginal posterior dist. of mu: [23.5450,28.8550]\n"
     ]
    }
   ],
   "source": [
    "#Given data\n",
    "ybar = 26.2\n",
    "sd = 10.8\n",
    "n = 66\n",
    "scale = math.sqrt(sd**2/n)\n",
    "t_025 = t.ppf(q=0.025, df=n-1, loc=ybar, scale=scale)\n",
    "t_975 = t.ppf(q=0.975, df=n-1, loc=ybar, scale=scale)\n",
    "print('CI of marginal posterior dist. of mu: [{:.4f},{:.4f}]'.format(\n",
    "    t_025, t_975))\n"
   ]
  },
  {
   "cell_type": "markdown",
   "metadata": {},
   "source": [
    "Sampling"
   ]
  },
  {
   "cell_type": "code",
   "execution_count": 14,
   "metadata": {},
   "outputs": [
    {
     "name": "stdout",
     "output_type": "stream",
     "text": [
      "Median: 26.2248\n",
      "2.5%  Percentile: 23.4232\n",
      "97.5% Precentile: 28.7603\n"
     ]
    }
   ],
   "source": [
    "np.random.seed(1)\n",
    "mu_list = []\n",
    "\n",
    "###########HOMEWORK############\n",
    "#Fill in for in loop!\n",
    "#You can use hint, or create new code!\n",
    "for i in range(1000):\n",
    "    #hint: to get random number from chisquare dist, you can use np.random.chisquare(df=)\n",
    "    #\n",
    "    #hint: to get random number from normal dist, you can use np.random.normal(loc=, scale=)\n",
    "    #note: normally, scale has standard deviation form/ NOT Variation form\n",
    "    #append mu to mu_list\n",
    "\n",
    "mu_list.sort()\n",
    "mu_median = (mu_list[499]+mu_list[500])/2\n",
    "mu_025 = mu_list[24]\n",
    "mu_975 = mu_list[974]\n",
    "print('Median: {:.4f}'.format(mu_median))\n",
    "print('2.5%  Percentile: {:.4f}'.format(mu_025))\n",
    "print('97.5% Precentile: {:.4f}'.format(mu_975))"
   ]
  },
  {
   "cell_type": "code",
   "execution_count": 15,
   "metadata": {},
   "outputs": [
    {
     "data": {
      "image/png": "[encoded data removed]",
      "text/plain": [
       "<Figure size 432x288 with 1 Axes>"
      ]
     },
     "metadata": {
      "needs_background": "light"
     },
     "output_type": "display_data"
    }
   ],
   "source": [
    "x = np.linspace(ybar-0.5*sd, ybar+0.5*sd, 1000)\n",
    "\n",
    "plt.plot(x, t.pdf(x=x, df=n-1, loc=ybar, scale=scale), 'r-',\n",
    "         lw=2, alpha=0.7, label='Marginal Posterior Dist.')\n",
    "plt.hist(mu_list, bins=40, label='Sampled Data', alpha=0.6, density=True)\n",
    "plt.title(\"Marginal Posterior Dist. vs Sampled Data\")\n",
    "plt.legend()\n",
    "plt.show()\n"
   ]
  }
 ],
 "metadata": {
  "kernelspec": {
   "display_name": "Python 3.9.7 ('base')",
   "language": "python",
   "name": "python3"
  },
  "language_info": {
   "codemirror_mode": {
    "name": "ipython",
    "version": 3
   },
   "file_extension": ".py",
   "mimetype": "text/x-python",
   "name": "python",
   "nbconvert_exporter": "python",
   "pygments_lexer": "ipython3",
   "version": "3.9.7"
  },
  "orig_nbformat": 4,
  "vscode": {
   "interpreter": {
    "hash": "a077222d77dfe082b8f1dd562ad70e458ac2ab76993a0b248ab0476e32e9e8dd"
   }
  }
 },
 "nbformat": 4,
 "nbformat_minor": 2
}
